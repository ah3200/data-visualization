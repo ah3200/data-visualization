{
 "cells": [
  {
   "cell_type": "code",
   "execution_count": 30,
   "metadata": {
    "collapsed": true
   },
   "outputs": [],
   "source": [
    "import pandas as pd\n",
    "import numpy as np"
   ]
  },
  {
   "cell_type": "code",
   "execution_count": 31,
   "metadata": {
    "collapsed": true
   },
   "outputs": [],
   "source": [
    "airlines = pd.read_csv('./data/airlines.dat', header=None, dtype=str)\n",
    "airports = pd.read_csv('./data/airports.dat', header=None, dtype=str)\n",
    "routes = pd.read_csv('./data/routes.dat', header=None, dtype=str)"
   ]
  },
  {
   "cell_type": "code",
   "execution_count": 32,
   "metadata": {
    "collapsed": false
   },
   "outputs": [],
   "source": [
    "airports.columns = [\"id\", \"name\", \"city\", \"country\", \"code\", \"icao\", \"latitude\", \"longitude\", \"altitude\", \"offset\", \"dst\", \"timezone\"]\n",
    "airlines.columns = [\"id\", \"name\", \"alias\", \"iata\", \"icao\", \"callsign\", \"country\", \"active\"]\n",
    "routes.columns = [\"airline\", \"airline_id\", \"source\", \"source_id\", \"dest\", \"dest_id\", \"codeshare\", \"stops\", \"equipment\"]"
   ]
  },
  {
   "cell_type": "code",
   "execution_count": 33,
   "metadata": {
    "collapsed": false
   },
   "outputs": [
    {
     "data": {
      "text/html": [
       "<div>\n",
       "<table border=\"1\" class=\"dataframe\">\n",
       "  <thead>\n",
       "    <tr style=\"text-align: right;\">\n",
       "      <th></th>\n",
       "      <th>id</th>\n",
       "      <th>name</th>\n",
       "      <th>city</th>\n",
       "      <th>country</th>\n",
       "      <th>code</th>\n",
       "      <th>icao</th>\n",
       "      <th>latitude</th>\n",
       "      <th>longitude</th>\n",
       "      <th>altitude</th>\n",
       "      <th>offset</th>\n",
       "      <th>dst</th>\n",
       "      <th>timezone</th>\n",
       "    </tr>\n",
       "  </thead>\n",
       "  <tbody>\n",
       "    <tr>\n",
       "      <th>0</th>\n",
       "      <td>1</td>\n",
       "      <td>Goroka</td>\n",
       "      <td>Goroka</td>\n",
       "      <td>Papua New Guinea</td>\n",
       "      <td>GKA</td>\n",
       "      <td>AYGA</td>\n",
       "      <td>-6.081689</td>\n",
       "      <td>145.391881</td>\n",
       "      <td>5282</td>\n",
       "      <td>10</td>\n",
       "      <td>U</td>\n",
       "      <td>Pacific/Port_Moresby</td>\n",
       "    </tr>\n",
       "    <tr>\n",
       "      <th>1</th>\n",
       "      <td>2</td>\n",
       "      <td>Madang</td>\n",
       "      <td>Madang</td>\n",
       "      <td>Papua New Guinea</td>\n",
       "      <td>MAG</td>\n",
       "      <td>AYMD</td>\n",
       "      <td>-5.207083</td>\n",
       "      <td>145.7887</td>\n",
       "      <td>20</td>\n",
       "      <td>10</td>\n",
       "      <td>U</td>\n",
       "      <td>Pacific/Port_Moresby</td>\n",
       "    </tr>\n",
       "    <tr>\n",
       "      <th>2</th>\n",
       "      <td>3</td>\n",
       "      <td>Mount Hagen</td>\n",
       "      <td>Mount Hagen</td>\n",
       "      <td>Papua New Guinea</td>\n",
       "      <td>HGU</td>\n",
       "      <td>AYMH</td>\n",
       "      <td>-5.826789</td>\n",
       "      <td>144.295861</td>\n",
       "      <td>5388</td>\n",
       "      <td>10</td>\n",
       "      <td>U</td>\n",
       "      <td>Pacific/Port_Moresby</td>\n",
       "    </tr>\n",
       "    <tr>\n",
       "      <th>3</th>\n",
       "      <td>4</td>\n",
       "      <td>Nadzab</td>\n",
       "      <td>Nadzab</td>\n",
       "      <td>Papua New Guinea</td>\n",
       "      <td>LAE</td>\n",
       "      <td>AYNZ</td>\n",
       "      <td>-6.569828</td>\n",
       "      <td>146.726242</td>\n",
       "      <td>239</td>\n",
       "      <td>10</td>\n",
       "      <td>U</td>\n",
       "      <td>Pacific/Port_Moresby</td>\n",
       "    </tr>\n",
       "    <tr>\n",
       "      <th>4</th>\n",
       "      <td>5</td>\n",
       "      <td>Port Moresby Jacksons Intl</td>\n",
       "      <td>Port Moresby</td>\n",
       "      <td>Papua New Guinea</td>\n",
       "      <td>POM</td>\n",
       "      <td>AYPY</td>\n",
       "      <td>-9.443383</td>\n",
       "      <td>147.22005</td>\n",
       "      <td>146</td>\n",
       "      <td>10</td>\n",
       "      <td>U</td>\n",
       "      <td>Pacific/Port_Moresby</td>\n",
       "    </tr>\n",
       "  </tbody>\n",
       "</table>\n",
       "</div>"
      ],
      "text/plain": [
       "  id                        name          city           country code  icao  \\\n",
       "0  1                      Goroka        Goroka  Papua New Guinea  GKA  AYGA   \n",
       "1  2                      Madang        Madang  Papua New Guinea  MAG  AYMD   \n",
       "2  3                 Mount Hagen   Mount Hagen  Papua New Guinea  HGU  AYMH   \n",
       "3  4                      Nadzab        Nadzab  Papua New Guinea  LAE  AYNZ   \n",
       "4  5  Port Moresby Jacksons Intl  Port Moresby  Papua New Guinea  POM  AYPY   \n",
       "\n",
       "    latitude   longitude altitude offset dst              timezone  \n",
       "0  -6.081689  145.391881     5282     10   U  Pacific/Port_Moresby  \n",
       "1  -5.207083    145.7887       20     10   U  Pacific/Port_Moresby  \n",
       "2  -5.826789  144.295861     5388     10   U  Pacific/Port_Moresby  \n",
       "3  -6.569828  146.726242      239     10   U  Pacific/Port_Moresby  \n",
       "4  -9.443383   147.22005      146     10   U  Pacific/Port_Moresby  "
      ]
     },
     "execution_count": 33,
     "metadata": {},
     "output_type": "execute_result"
    }
   ],
   "source": [
    "airports.head()"
   ]
  },
  {
   "cell_type": "code",
   "execution_count": 34,
   "metadata": {
    "collapsed": false
   },
   "outputs": [
    {
     "data": {
      "text/html": [
       "<div>\n",
       "<table border=\"1\" class=\"dataframe\">\n",
       "  <thead>\n",
       "    <tr style=\"text-align: right;\">\n",
       "      <th></th>\n",
       "      <th>id</th>\n",
       "      <th>name</th>\n",
       "      <th>alias</th>\n",
       "      <th>iata</th>\n",
       "      <th>icao</th>\n",
       "      <th>callsign</th>\n",
       "      <th>country</th>\n",
       "      <th>active</th>\n",
       "    </tr>\n",
       "  </thead>\n",
       "  <tbody>\n",
       "    <tr>\n",
       "      <th>0</th>\n",
       "      <td>1</td>\n",
       "      <td>Private flight</td>\n",
       "      <td>\\N</td>\n",
       "      <td>-</td>\n",
       "      <td>NaN</td>\n",
       "      <td>NaN</td>\n",
       "      <td>NaN</td>\n",
       "      <td>Y</td>\n",
       "    </tr>\n",
       "    <tr>\n",
       "      <th>1</th>\n",
       "      <td>2</td>\n",
       "      <td>135 Airways</td>\n",
       "      <td>\\N</td>\n",
       "      <td>NaN</td>\n",
       "      <td>GNL</td>\n",
       "      <td>GENERAL</td>\n",
       "      <td>United States</td>\n",
       "      <td>N</td>\n",
       "    </tr>\n",
       "    <tr>\n",
       "      <th>2</th>\n",
       "      <td>3</td>\n",
       "      <td>1Time Airline</td>\n",
       "      <td>\\N</td>\n",
       "      <td>1T</td>\n",
       "      <td>RNX</td>\n",
       "      <td>NEXTIME</td>\n",
       "      <td>South Africa</td>\n",
       "      <td>Y</td>\n",
       "    </tr>\n",
       "    <tr>\n",
       "      <th>3</th>\n",
       "      <td>4</td>\n",
       "      <td>2 Sqn No 1 Elementary Flying Training School</td>\n",
       "      <td>\\N</td>\n",
       "      <td>NaN</td>\n",
       "      <td>WYT</td>\n",
       "      <td>NaN</td>\n",
       "      <td>United Kingdom</td>\n",
       "      <td>N</td>\n",
       "    </tr>\n",
       "    <tr>\n",
       "      <th>4</th>\n",
       "      <td>5</td>\n",
       "      <td>213 Flight Unit</td>\n",
       "      <td>\\N</td>\n",
       "      <td>NaN</td>\n",
       "      <td>TFU</td>\n",
       "      <td>NaN</td>\n",
       "      <td>Russia</td>\n",
       "      <td>N</td>\n",
       "    </tr>\n",
       "  </tbody>\n",
       "</table>\n",
       "</div>"
      ],
      "text/plain": [
       "  id                                          name alias iata icao callsign  \\\n",
       "0  1                                Private flight    \\N    -  NaN      NaN   \n",
       "1  2                                   135 Airways    \\N  NaN  GNL  GENERAL   \n",
       "2  3                                 1Time Airline    \\N   1T  RNX  NEXTIME   \n",
       "3  4  2 Sqn No 1 Elementary Flying Training School    \\N  NaN  WYT      NaN   \n",
       "4  5                               213 Flight Unit    \\N  NaN  TFU      NaN   \n",
       "\n",
       "          country active  \n",
       "0             NaN      Y  \n",
       "1   United States      N  \n",
       "2    South Africa      Y  \n",
       "3  United Kingdom      N  \n",
       "4          Russia      N  "
      ]
     },
     "execution_count": 34,
     "metadata": {},
     "output_type": "execute_result"
    }
   ],
   "source": [
    "airlines.head()"
   ]
  },
  {
   "cell_type": "code",
   "execution_count": 35,
   "metadata": {
    "collapsed": false
   },
   "outputs": [
    {
     "data": {
      "text/html": [
       "<div>\n",
       "<table border=\"1\" class=\"dataframe\">\n",
       "  <thead>\n",
       "    <tr style=\"text-align: right;\">\n",
       "      <th></th>\n",
       "      <th>airline</th>\n",
       "      <th>airline_id</th>\n",
       "      <th>source</th>\n",
       "      <th>source_id</th>\n",
       "      <th>dest</th>\n",
       "      <th>dest_id</th>\n",
       "      <th>codeshare</th>\n",
       "      <th>stops</th>\n",
       "      <th>equipment</th>\n",
       "    </tr>\n",
       "  </thead>\n",
       "  <tbody>\n",
       "    <tr>\n",
       "      <th>0</th>\n",
       "      <td>2B</td>\n",
       "      <td>410</td>\n",
       "      <td>AER</td>\n",
       "      <td>2965</td>\n",
       "      <td>KZN</td>\n",
       "      <td>2990</td>\n",
       "      <td>NaN</td>\n",
       "      <td>0</td>\n",
       "      <td>CR2</td>\n",
       "    </tr>\n",
       "    <tr>\n",
       "      <th>1</th>\n",
       "      <td>2B</td>\n",
       "      <td>410</td>\n",
       "      <td>ASF</td>\n",
       "      <td>2966</td>\n",
       "      <td>KZN</td>\n",
       "      <td>2990</td>\n",
       "      <td>NaN</td>\n",
       "      <td>0</td>\n",
       "      <td>CR2</td>\n",
       "    </tr>\n",
       "    <tr>\n",
       "      <th>2</th>\n",
       "      <td>2B</td>\n",
       "      <td>410</td>\n",
       "      <td>ASF</td>\n",
       "      <td>2966</td>\n",
       "      <td>MRV</td>\n",
       "      <td>2962</td>\n",
       "      <td>NaN</td>\n",
       "      <td>0</td>\n",
       "      <td>CR2</td>\n",
       "    </tr>\n",
       "    <tr>\n",
       "      <th>3</th>\n",
       "      <td>2B</td>\n",
       "      <td>410</td>\n",
       "      <td>CEK</td>\n",
       "      <td>2968</td>\n",
       "      <td>KZN</td>\n",
       "      <td>2990</td>\n",
       "      <td>NaN</td>\n",
       "      <td>0</td>\n",
       "      <td>CR2</td>\n",
       "    </tr>\n",
       "    <tr>\n",
       "      <th>4</th>\n",
       "      <td>2B</td>\n",
       "      <td>410</td>\n",
       "      <td>CEK</td>\n",
       "      <td>2968</td>\n",
       "      <td>OVB</td>\n",
       "      <td>4078</td>\n",
       "      <td>NaN</td>\n",
       "      <td>0</td>\n",
       "      <td>CR2</td>\n",
       "    </tr>\n",
       "  </tbody>\n",
       "</table>\n",
       "</div>"
      ],
      "text/plain": [
       "  airline airline_id source source_id dest dest_id codeshare stops equipment\n",
       "0      2B        410    AER      2965  KZN    2990       NaN     0       CR2\n",
       "1      2B        410    ASF      2966  KZN    2990       NaN     0       CR2\n",
       "2      2B        410    ASF      2966  MRV    2962       NaN     0       CR2\n",
       "3      2B        410    CEK      2968  KZN    2990       NaN     0       CR2\n",
       "4      2B        410    CEK      2968  OVB    4078       NaN     0       CR2"
      ]
     },
     "execution_count": 35,
     "metadata": {},
     "output_type": "execute_result"
    }
   ],
   "source": [
    "routes.head()"
   ]
  },
  {
   "cell_type": "code",
   "execution_count": 36,
   "metadata": {
    "collapsed": false
   },
   "outputs": [
    {
     "data": {
      "text/plain": [
       "(678, 678)"
      ]
     },
     "execution_count": 36,
     "metadata": {},
     "output_type": "execute_result"
    }
   ],
   "source": [
    "len(routes[routes.airline_id == \"\\N\"]), len(routes[routes.airline_id == \"\\\\N\"])"
   ]
  },
  {
   "cell_type": "code",
   "execution_count": 37,
   "metadata": {
    "collapsed": false
   },
   "outputs": [
    {
     "data": {
      "text/plain": [
       "((67663, 9), (6048, 8), (8107, 12))"
      ]
     },
     "execution_count": 37,
     "metadata": {},
     "output_type": "execute_result"
    }
   ],
   "source": [
    "routes.shape, airlines.shape, airports.shape"
   ]
  },
  {
   "cell_type": "code",
   "execution_count": 38,
   "metadata": {
    "collapsed": true
   },
   "outputs": [],
   "source": [
    "routes = routes[routes[\"airline_id\"] != \"\\\\N\"]"
   ]
  },
  {
   "cell_type": "code",
   "execution_count": 39,
   "metadata": {
    "collapsed": false
   },
   "outputs": [
    {
     "data": {
      "text/plain": [
       "(66985, 9)"
      ]
     },
     "execution_count": 39,
     "metadata": {},
     "output_type": "execute_result"
    }
   ],
   "source": [
    "routes.shape"
   ]
  },
  {
   "cell_type": "code",
   "execution_count": 40,
   "metadata": {
    "collapsed": true
   },
   "outputs": [],
   "source": [
    "import math\n",
    "\n",
    "def haversine(lon1, lat1, lon2, lat2):\n",
    "    # Convert coordinates to floats.\n",
    "    lon1, lat1, lon2, lat2 = [float(lon1), float(lat1), float(lon2), float(lat2)]\n",
    "    # Convert to radians from degrees.\n",
    "    lon1, lat1, lon2, lat2 = map(math.radians, [lon1, lat1, lon2, lat2])\n",
    "    # Compute distance.\n",
    "    dlon = lon2 - lon1 \n",
    "    dlat = lat2 - lat1 \n",
    "    a = math.sin(dlat/2)**2 + math.cos(lat1) * math.cos(lat2) * math.sin(dlon/2)**2\n",
    "    c = 2 * math.asin(math.sqrt(a)) \n",
    "    km = 6367 * c\n",
    "    return km"
   ]
  },
  {
   "cell_type": "code",
   "execution_count": 41,
   "metadata": {
    "collapsed": false
   },
   "outputs": [],
   "source": [
    "def calc_dist(row):\n",
    "    dist = 0\n",
    "    try:\n",
    "        # Match source and destination to get coordinates.\n",
    "        source = airports[airports[\"id\"] == row[\"source_id\"]].iloc[0]\n",
    "        dest = airports[airports[\"id\"] == row[\"dest_id\"]].iloc[0]\n",
    "        # Use coordinates to compute distance.\n",
    "        dist = haversine(dest[\"longitude\"], dest[\"latitude\"], source[\"longitude\"], source[\"latitude\"])\n",
    "    except (ValueError, IndexError):\n",
    "        pass\n",
    "    return dist"
   ]
  },
  {
   "cell_type": "code",
   "execution_count": 42,
   "metadata": {
    "collapsed": false
   },
   "outputs": [],
   "source": [
    "route_lengths = routes.apply(calc_dist, axis=1)"
   ]
  },
  {
   "cell_type": "code",
   "execution_count": 43,
   "metadata": {
    "collapsed": false
   },
   "outputs": [
    {
     "data": {
      "text/plain": [
       "count    66985.000000\n",
       "mean      1848.329039\n",
       "std       2020.452033\n",
       "min          0.000000\n",
       "25%        627.522541\n",
       "50%       1197.544384\n",
       "75%       2172.606194\n",
       "max      13799.491740\n",
       "dtype: float64"
      ]
     },
     "execution_count": 43,
     "metadata": {},
     "output_type": "execute_result"
    }
   ],
   "source": [
    "route_lengths.describe()"
   ]
  },
  {
   "cell_type": "code",
   "execution_count": 44,
   "metadata": {
    "collapsed": false
   },
   "outputs": [
    {
     "data": {
      "text/plain": [
       "(array([  1.88370000e+04,   1.88060000e+04,   1.15850000e+04,\n",
       "          5.70400000e+03,   3.78000000e+03,   1.80200000e+03,\n",
       "          9.06000000e+02,   7.22000000e+02,   9.09000000e+02,\n",
       "          8.79000000e+02,   6.44000000e+02,   7.08000000e+02,\n",
       "          5.17000000e+02,   4.64000000e+02,   2.04000000e+02,\n",
       "          2.24000000e+02,   1.52000000e+02,   6.80000000e+01,\n",
       "          5.80000000e+01,   1.60000000e+01]),\n",
       " array([     0.        ,    689.97458702,   1379.94917403,   2069.92376105,\n",
       "          2759.89834807,   3449.87293508,   4139.8475221 ,   4829.82210912,\n",
       "          5519.79669613,   6209.77128315,   6899.74587017,   7589.72045718,\n",
       "          8279.6950442 ,   8969.66963121,   9659.64421823,  10349.61880525,\n",
       "         11039.59339226,  11729.56797928,  12419.5425663 ,  13109.51715331,\n",
       "         13799.49174033]),\n",
       " <a list of 20 Patch objects>)"
      ]
     },
     "execution_count": 44,
     "metadata": {},
     "output_type": "execute_result"
    },
    {
     "data": {
      "image/png": "[encoded data removed]",
      "text/plain": [
       "<matplotlib.figure.Figure at 0x7f699aaf7c90>"
      ]
     },
     "metadata": {},
     "output_type": "display_data"
    }
   ],
   "source": [
    "# Histogram\n",
    "\n",
    "import matplotlib.pyplot as plt\n",
    "%matplotlib inline\n",
    "\n",
    "plt.hist(route_lengths, bins=20)"
   ]
  },
  {
   "cell_type": "code",
   "execution_count": 45,
   "metadata": {
    "collapsed": false
   },
   "outputs": [
    {
     "data": {
      "text/plain": [
       "<matplotlib.axes._subplots.AxesSubplot at 0x7f6985f74e10>"
      ]
     },
     "execution_count": 45,
     "metadata": {},
     "output_type": "execute_result"
    },
    {
     "data": {
      "image/png": "[encoded data removed]",
      "text/plain": [
       "<matplotlib.figure.Figure at 0x7f69a616e590>"
      ]
     },
     "metadata": {},
     "output_type": "display_data"
    }
   ],
   "source": [
    "import seaborn\n",
    "seaborn.distplot(route_lengths, bins=20, kde=0)"
   ]
  },
  {
   "cell_type": "code",
   "execution_count": 49,
   "metadata": {
    "collapsed": false
   },
   "outputs": [],
   "source": [
    "# Bar Chart\n",
    "# Put relevant columns into a dataframe.\n",
    "route_length_df = pd.DataFrame({\"length\": route_lengths, \"id\": routes[\"airline_id\"]})\n",
    "# Compute the mean route length per airline.\n",
    "airline_route_lengths = route_length_df.groupby(\"id\").aggregate(np.mean)\n",
    "# Sort by length so we can make a better chart.\n",
    "airline_route_lengths = airline_route_lengths.sort_values(by=\"length\", ascending=False)"
   ]
  },
  {
   "cell_type": "code",
   "execution_count": 50,
   "metadata": {
    "collapsed": false
   },
   "outputs": [
    {
     "data": {
      "text/html": [
       "<div>\n",
       "<table border=\"1\" class=\"dataframe\">\n",
       "  <thead>\n",
       "    <tr style=\"text-align: right;\">\n",
       "      <th></th>\n",
       "      <th>length</th>\n",
       "    </tr>\n",
       "    <tr>\n",
       "      <th>id</th>\n",
       "      <th></th>\n",
       "    </tr>\n",
       "  </thead>\n",
       "  <tbody>\n",
       "    <tr>\n",
       "      <th>11806</th>\n",
       "      <td>7260.803336</td>\n",
       "    </tr>\n",
       "    <tr>\n",
       "      <th>3201</th>\n",
       "      <td>6332.122405</td>\n",
       "    </tr>\n",
       "    <tr>\n",
       "      <th>1008</th>\n",
       "      <td>5861.977268</td>\n",
       "    </tr>\n",
       "    <tr>\n",
       "      <th>1299</th>\n",
       "      <td>4943.941690</td>\n",
       "    </tr>\n",
       "    <tr>\n",
       "      <th>2183</th>\n",
       "      <td>4729.250717</td>\n",
       "    </tr>\n",
       "    <tr>\n",
       "      <th>2417</th>\n",
       "      <td>4707.871646</td>\n",
       "    </tr>\n",
       "    <tr>\n",
       "      <th>5479</th>\n",
       "      <td>4649.944174</td>\n",
       "    </tr>\n",
       "    <tr>\n",
       "      <th>11814</th>\n",
       "      <td>4504.587573</td>\n",
       "    </tr>\n",
       "    <tr>\n",
       "      <th>225</th>\n",
       "      <td>4434.483659</td>\n",
       "    </tr>\n",
       "    <tr>\n",
       "      <th>1908</th>\n",
       "      <td>4383.154274</td>\n",
       "    </tr>\n",
       "  </tbody>\n",
       "</table>\n",
       "</div>"
      ],
      "text/plain": [
       "            length\n",
       "id                \n",
       "11806  7260.803336\n",
       "3201   6332.122405\n",
       "1008   5861.977268\n",
       "1299   4943.941690\n",
       "2183   4729.250717\n",
       "2417   4707.871646\n",
       "5479   4649.944174\n",
       "11814  4504.587573\n",
       "225    4434.483659\n",
       "1908   4383.154274"
      ]
     },
     "execution_count": 50,
     "metadata": {},
     "output_type": "execute_result"
    }
   ],
   "source": [
    "airline_route_lengths.head(10)"
   ]
  },
  {
   "cell_type": "code",
   "execution_count": 51,
   "metadata": {
    "collapsed": false
   },
   "outputs": [
    {
     "data": {
      "text/plain": [
       "<Container object of 540 artists>"
      ]
     },
     "execution_count": 51,
     "metadata": {},
     "output_type": "execute_result"
    },
    {
     "data": {
      "image/png": "[encoded data removed]",
      "text/plain": [
       "<matplotlib.figure.Figure at 0x7f69a60dd990>"
      ]
     },
     "metadata": {},
     "output_type": "display_data"
    }
   ],
   "source": [
    "plt.bar(range(airline_route_lengths.shape[0]), airline_route_lengths[\"length\"])"
   ]
  },
  {
   "cell_type": "code",
   "execution_count": 52,
   "metadata": {
    "collapsed": true
   },
   "outputs": [],
   "source": [
    "def lookup_name(row):\n",
    "    try:\n",
    "        # Match the row id to the id in the airlines dataframe so we can get the name.\n",
    "        name = airlines[\"name\"][airlines[\"id\"] == row[\"id\"]].iloc[0]\n",
    "    except (ValueError, IndexError):\n",
    "        name = \"\"\n",
    "    return name"
   ]
  },
  {
   "cell_type": "code",
   "execution_count": 54,
   "metadata": {
    "collapsed": false
   },
   "outputs": [],
   "source": [
    "# Add the index (the airline ids) as a column.\n",
    "airline_route_lengths[\"id\"] = airline_route_lengths.index.copy()\n",
    "# Find all the airline names.\n",
    "airline_route_lengths[\"name\"] = airline_route_lengths.apply(lookup_name, axis=1)\n",
    "# Remove duplicate values in the index.\n",
    "airline_route_lengths.index = range(airline_route_lengths.shape[0])"
   ]
  },
  {
   "cell_type": "code",
   "execution_count": 55,
   "metadata": {
    "collapsed": false
   },
   "outputs": [
    {
     "data": {
      "text/html": [
       "<div>\n",
       "<table border=\"1\" class=\"dataframe\">\n",
       "  <thead>\n",
       "    <tr style=\"text-align: right;\">\n",
       "      <th></th>\n",
       "      <th>length</th>\n",
       "      <th>id</th>\n",
       "      <th>name</th>\n",
       "    </tr>\n",
       "  </thead>\n",
       "  <tbody>\n",
       "    <tr>\n",
       "      <th>0</th>\n",
       "      <td>7260.803336</td>\n",
       "      <td>11806</td>\n",
       "      <td>Compagnie Africaine d\\\\'Aviation</td>\n",
       "    </tr>\n",
       "    <tr>\n",
       "      <th>1</th>\n",
       "      <td>6332.122405</td>\n",
       "      <td>3201</td>\n",
       "      <td>LAN Argentina</td>\n",
       "    </tr>\n",
       "    <tr>\n",
       "      <th>2</th>\n",
       "      <td>5861.977268</td>\n",
       "      <td>1008</td>\n",
       "      <td>Albanian Airlines</td>\n",
       "    </tr>\n",
       "    <tr>\n",
       "      <th>3</th>\n",
       "      <td>4943.941690</td>\n",
       "      <td>1299</td>\n",
       "      <td>Arkefly</td>\n",
       "    </tr>\n",
       "    <tr>\n",
       "      <th>4</th>\n",
       "      <td>4729.250717</td>\n",
       "      <td>2183</td>\n",
       "      <td>Emirates</td>\n",
       "    </tr>\n",
       "  </tbody>\n",
       "</table>\n",
       "</div>"
      ],
      "text/plain": [
       "        length     id                              name\n",
       "0  7260.803336  11806  Compagnie Africaine d\\\\'Aviation\n",
       "1  6332.122405   3201                     LAN Argentina\n",
       "2  5861.977268   1008                 Albanian Airlines\n",
       "3  4943.941690   1299                           Arkefly\n",
       "4  4729.250717   2183                          Emirates"
      ]
     },
     "execution_count": 55,
     "metadata": {},
     "output_type": "execute_result"
    }
   ],
   "source": [
    "airline_route_lengths.head()"
   ]
  },
  {
   "cell_type": "code",
   "execution_count": 60,
   "metadata": {
    "collapsed": false
   },
   "outputs": [
    {
     "data": {
      "text/html": [
       "\n",
       "    <div class=\"bk-root\">\n",
       "        <a href=\"http://bokeh.pydata.org\" target=\"_blank\" class=\"bk-logo bk-logo-small bk-logo-notebook\"></a>\n",
       "        <span id=\"87b50c49-6bd4-46cc-978d-282ae7a3a6f0\">Loading BokehJS ...</span>\n",
       "    </div>"
      ]
     },
     "metadata": {},
     "output_type": "display_data"
    },
    {
     "data": {
      "application/javascript": [
       "\n",
       "(function(global) {\n",
       "  function now() {\n",
       "    return new Date();\n",
       "  }\n",
       "\n",
       "  var force = \"1\";\n",
       "\n",
       "  if (typeof (window._bokeh_onload_callbacks) === \"undefined\" || force !== \"\") {\n",
       "    window._bokeh_onload_callbacks = [];\n",
       "    window._bokeh_is_loading = undefined;\n",
       "  }\n",
       "\n",
       "\n",
       "  \n",
       "  if (typeof (window._bokeh_timeout) === \"undefined\" || force !== \"\") {\n",
       "    window._bokeh_timeout = Date.now() + 5000;\n",
       "    window._bokeh_failed_load = false;\n",
       "  }\n",
       "\n",
       "  var NB_LOAD_WARNING = {'data': {'text/html':\n",
       "     \"<div style='background-color: #fdd'>\\n\"+\n",
       "     \"<p>\\n\"+\n",
       "     \"BokehJS does not appear to have successfully loaded. If loading BokehJS from CDN, this \\n\"+\n",
       "     \"may be due to a slow or bad network connection. Possible fixes:\\n\"+\n",
       "     \"</p>\\n\"+\n",
       "     \"<ul>\\n\"+\n",
       "     \"<li>re-rerun `output_notebook()` to attempt to load from CDN again, or</li>\\n\"+\n",
       "     \"<li>use INLINE resources instead, as so:</li>\\n\"+\n",
       "     \"</ul>\\n\"+\n",
       "     \"<code>\\n\"+\n",
       "     \"from bokeh.resources import INLINE\\n\"+\n",
       "     \"output_notebook(resources=INLINE)\\n\"+\n",
       "     \"</code>\\n\"+\n",
       "     \"</div>\"}};\n",
       "\n",
       "  function display_loaded() {\n",
       "    if (window.Bokeh !== undefined) {\n",
       "      Bokeh.$(\"#87b50c49-6bd4-46cc-978d-282ae7a3a6f0\").text(\"BokehJS successfully loaded.\");\n",
       "    } else if (Date.now() < window._bokeh_timeout) {\n",
       "      setTimeout(display_loaded, 100)\n",
       "    }\n",
       "  }\n",
       "\n",
       "  function run_callbacks() {\n",
       "    window._bokeh_onload_callbacks.forEach(function(callback) { callback() });\n",
       "    delete window._bokeh_onload_callbacks\n",
       "    console.info(\"Bokeh: all callbacks have finished\");\n",
       "  }\n",
       "\n",
       "  function load_libs(js_urls, callback) {\n",
       "    window._bokeh_onload_callbacks.push(callback);\n",
       "    if (window._bokeh_is_loading > 0) {\n",
       "      console.log(\"Bokeh: BokehJS is being loaded, scheduling callback at\", now());\n",
       "      return null;\n",
       "    }\n",
       "    if (js_urls == null || js_urls.length === 0) {\n",
       "      run_callbacks();\n",
       "      return null;\n",
       "    }\n",
       "    console.log(\"Bokeh: BokehJS not loaded, scheduling load and callback at\", now());\n",
       "    window._bokeh_is_loading = js_urls.length;\n",
       "    for (var i = 0; i < js_urls.length; i++) {\n",
       "      var url = js_urls[i];\n",
       "      var s = document.createElement('script');\n",
       "      s.src = url;\n",
       "      s.async = false;\n",
       "      s.onreadystatechange = s.onload = function() {\n",
       "        window._bokeh_is_loading--;\n",
       "        if (window._bokeh_is_loading === 0) {\n",
       "          console.log(\"Bokeh: all BokehJS libraries loaded\");\n",
       "          run_callbacks()\n",
       "        }\n",
       "      };\n",
       "      s.onerror = function() {\n",
       "        console.warn(\"failed to load library \" + url);\n",
       "      };\n",
       "      console.log(\"Bokeh: injecting script tag for BokehJS library: \", url);\n",
       "      document.getElementsByTagName(\"head\")[0].appendChild(s);\n",
       "    }\n",
       "  };var element = document.getElementById(\"87b50c49-6bd4-46cc-978d-282ae7a3a6f0\");\n",
       "  if (element == null) {\n",
       "    console.log(\"Bokeh: ERROR: autoload.js configured with elementid '87b50c49-6bd4-46cc-978d-282ae7a3a6f0' but no matching script tag was found. \")\n",
       "    return false;\n",
       "  }\n",
       "\n",
       "  var js_urls = ['https://cdn.pydata.org/bokeh/release/bokeh-0.12.3.min.js', 'https://cdn.pydata.org/bokeh/release/bokeh-widgets-0.12.3.min.js'];\n",
       "\n",
       "  var inline_js = [\n",
       "    function(Bokeh) {\n",
       "      Bokeh.set_log_level(\"info\");\n",
       "    },\n",
       "    \n",
       "    function(Bokeh) {\n",
       "      \n",
       "      Bokeh.$(\"#87b50c49-6bd4-46cc-978d-282ae7a3a6f0\").text(\"BokehJS is loading...\");\n",
       "    },\n",
       "    function(Bokeh) {\n",
       "      console.log(\"Bokeh: injecting CSS: https://cdn.pydata.org/bokeh/release/bokeh-0.12.3.min.css\");\n",
       "      Bokeh.embed.inject_css(\"https://cdn.pydata.org/bokeh/release/bokeh-0.12.3.min.css\");\n",
       "      console.log(\"Bokeh: injecting CSS: https://cdn.pydata.org/bokeh/release/bokeh-widgets-0.12.3.min.css\");\n",
       "      Bokeh.embed.inject_css(\"https://cdn.pydata.org/bokeh/release/bokeh-widgets-0.12.3.min.css\");\n",
       "    }\n",
       "  ];\n",
       "\n",
       "  function run_inline_js() {\n",
       "    \n",
       "    if ((window.Bokeh !== undefined) || (force === \"1\")) {\n",
       "      for (var i = 0; i < inline_js.length; i++) {\n",
       "        inline_js[i](window.Bokeh);\n",
       "      }if (force === \"1\") {\n",
       "        display_loaded();\n",
       "      }} else if (Date.now() < window._bokeh_timeout) {\n",
       "      setTimeout(run_inline_js, 100);\n",
       "    } else if (!window._bokeh_failed_load) {\n",
       "      console.log(\"Bokeh: BokehJS failed to load within specified timeout.\");\n",
       "      window._bokeh_failed_load = true;\n",
       "    } else if (!force) {\n",
       "      var cell = $(\"#87b50c49-6bd4-46cc-978d-282ae7a3a6f0\").parents('.cell').data().cell;\n",
       "      cell.output_area.append_execute_result(NB_LOAD_WARNING)\n",
       "    }\n",
       "\n",
       "  }\n",
       "\n",
       "  if (window._bokeh_is_loading === 0) {\n",
       "    console.log(\"Bokeh: BokehJS loaded, going straight to plotting\");\n",
       "    run_inline_js();\n",
       "  } else {\n",
       "    load_libs(js_urls, function() {\n",
       "      console.log(\"Bokeh: BokehJS plotting callback run at\", now());\n",
       "      run_inline_js();\n",
       "    });\n",
       "  }\n",
       "}(this));"
      ]
     },
     "metadata": {},
     "output_type": "display_data"
    },
    {
     "data": {
      "text/html": [
       "\n",
       "\n",
       "    <div class=\"bk-root\">\n",
       "        <div class=\"plotdiv\" id=\"67b430fe-b242-4b79-9d4f-a8078d33b343\"></div>\n",
       "    </div>\n",
       "<script type=\"text/javascript\">\n",
       "  \n",
       "  (function(global) {\n",
       "    function now() {\n",
       "      return new Date();\n",
       "    }\n",
       "  \n",
       "    var force = \"\";\n",
       "  \n",
       "    if (typeof (window._bokeh_onload_callbacks) === \"undefined\" || force !== \"\") {\n",
       "      window._bokeh_onload_callbacks = [];\n",
       "      window._bokeh_is_loading = undefined;\n",
       "    }\n",
       "  \n",
       "  \n",
       "    \n",
       "    if (typeof (window._bokeh_timeout) === \"undefined\" || force !== \"\") {\n",
       "      window._bokeh_timeout = Date.now() + 0;\n",
       "      window._bokeh_failed_load = false;\n",
       "    }\n",
       "  \n",
       "    var NB_LOAD_WARNING = {'data': {'text/html':\n",
       "       \"<div style='background-color: #fdd'>\\n\"+\n",
       "       \"<p>\\n\"+\n",
       "       \"BokehJS does not appear to have successfully loaded. If loading BokehJS from CDN, this \\n\"+\n",
       "       \"may be due to a slow or bad network connection. Possible fixes:\\n\"+\n",
       "       \"</p>\\n\"+\n",
       "       \"<ul>\\n\"+\n",
       "       \"<li>re-rerun `output_notebook()` to attempt to load from CDN again, or</li>\\n\"+\n",
       "       \"<li>use INLINE resources instead, as so:</li>\\n\"+\n",
       "       \"</ul>\\n\"+\n",
       "       \"<code>\\n\"+\n",
       "       \"from bokeh.resources import INLINE\\n\"+\n",
       "       \"output_notebook(resources=INLINE)\\n\"+\n",
       "       \"</code>\\n\"+\n",
       "       \"</div>\"}};\n",
       "  \n",
       "    function display_loaded() {\n",
       "      if (window.Bokeh !== undefined) {\n",
       "        Bokeh.$(\"#67b430fe-b242-4b79-9d4f-a8078d33b343\").text(\"BokehJS successfully loaded.\");\n",
       "      } else if (Date.now() < window._bokeh_timeout) {\n",
       "        setTimeout(display_loaded, 100)\n",
       "      }\n",
       "    }\n",
       "  \n",
       "    function run_callbacks() {\n",
       "      window._bokeh_onload_callbacks.forEach(function(callback) { callback() });\n",
       "      delete window._bokeh_onload_callbacks\n",
       "      console.info(\"Bokeh: all callbacks have finished\");\n",
       "    }\n",
       "  \n",
       "    function load_libs(js_urls, callback) {\n",
       "      window._bokeh_onload_callbacks.push(callback);\n",
       "      if (window._bokeh_is_loading > 0) {\n",
       "        console.log(\"Bokeh: BokehJS is being loaded, scheduling callback at\", now());\n",
       "        return null;\n",
       "      }\n",
       "      if (js_urls == null || js_urls.length === 0) {\n",
       "        run_callbacks();\n",
       "        return null;\n",
       "      }\n",
       "      console.log(\"Bokeh: BokehJS not loaded, scheduling load and callback at\", now());\n",
       "      window._bokeh_is_loading = js_urls.length;\n",
       "      for (var i = 0; i < js_urls.length; i++) {\n",
       "        var url = js_urls[i];\n",
       "        var s = document.createElement('script');\n",
       "        s.src = url;\n",
       "        s.async = false;\n",
       "        s.onreadystatechange = s.onload = function() {\n",
       "          window._bokeh_is_loading--;\n",
       "          if (window._bokeh_is_loading === 0) {\n",
       "            console.log(\"Bokeh: all BokehJS libraries loaded\");\n",
       "            run_callbacks()\n",
       "          }\n",
       "        };\n",
       "        s.onerror = function() {\n",
       "          console.warn(\"failed to load library \" + url);\n",
       "        };\n",
       "        console.log(\"Bokeh: injecting script tag for BokehJS library: \", url);\n",
       "        document.getElementsByTagName(\"head\")[0].appendChild(s);\n",
       "      }\n",
       "    };var element = document.getElementById(\"67b430fe-b242-4b79-9d4f-a8078d33b343\");\n",
       "    if (element == null) {\n",
       "      console.log(\"Bokeh: ERROR: autoload.js configured with elementid '67b430fe-b242-4b79-9d4f-a8078d33b343' but no matching script tag was found. \")\n",
       "      return false;\n",
       "    }\n",
       "  \n",
       "    var js_urls = [];\n",
       "  \n",
       "    var inline_js = [\n",
       "      function(Bokeh) {\n",
       "        Bokeh.$(function() {\n",
       "            var docs_json = {\"fba48624-6026-4925-a0dd-cbee15844c30\":{\"roots\":{\"references\":[{\"attributes\":{\"fill_alpha\":{\"field\":\"fill_alpha\"},\"fill_color\":{\"field\":\"color\"},\"height\":{\"field\":\"height\",\"units\":\"data\"},\"line_color\":{\"field\":\"line_color\"},\"width\":{\"field\":\"width\",\"units\":\"data\"},\"x\":{\"field\":\"x\"},\"y\":{\"field\":\"y\"}},\"id\":\"71891970-464b-41db-bed0-bc1cb63788fd\",\"type\":\"Rect\"},{\"attributes\":{\"data_source\":{\"id\":\"fb6d3109-d8f2-46c8-b4c0-4408336db2ca\",\"type\":\"ColumnDataSource\"},\"glyph\":{\"id\":\"f427cfca-a150-4f73-9359-fe079f94c466\",\"type\":\"Rect\"},\"hover_glyph\":null,\"nonselection_glyph\":null,\"selection_glyph\":null},\"id\":\"5c7ba10c-7c7d-4dd9-9bbd-a1abd7e7d1d0\",\"type\":\"GlyphRenderer\"},{\"attributes\":{\"fill_alpha\":{\"field\":\"fill_alpha\"},\"fill_color\":{\"field\":\"color\"},\"height\":{\"field\":\"height\",\"units\":\"data\"},\"line_color\":{\"field\":\"line_color\"},\"width\":{\"field\":\"width\",\"units\":\"data\"},\"x\":{\"field\":\"x\"},\"y\":{\"field\":\"y\"}},\"id\":\"313cbb0b-70cb-4f0d-9fc8-4c78ce6058e3\",\"type\":\"Rect\"},{\"attributes\":{\"fill_alpha\":{\"field\":\"fill_alpha\"},\"fill_color\":{\"field\":\"color\"},\"height\":{\"field\":\"height\",\"units\":\"data\"},\"line_color\":{\"field\":\"line_color\"},\"width\":{\"field\":\"width\",\"units\":\"data\"},\"x\":{\"field\":\"x\"},\"y\":{\"field\":\"y\"}},\"id\":\"405c57c2-8e16-49c1-b266-07aa0e27fe0d\",\"type\":\"Rect\"},{\"attributes\":{\"data_source\":{\"id\":\"08be76e4-f2f0-49b0-814b-af5b4fa163c3\",\"type\":\"ColumnDataSource\"},\"glyph\":{\"id\":\"5627b01c-01a5-4c58-8c58-ed44f3cd7995\",\"type\":\"Rect\"},\"hover_glyph\":null,\"nonselection_glyph\":null,\"selection_glyph\":null},\"id\":\"a3485295-1218-4129-83aa-5eab365ef571\",\"type\":\"GlyphRenderer\"},{\"attributes\":{\"active_drag\":\"auto\",\"active_scroll\":\"auto\",\"active_tap\":\"auto\",\"tools\":[{\"id\":\"ccb931d2-6fba-44c4-bd7e-9069acdb9d82\",\"type\":\"PanTool\"},{\"id\":\"404fd043-0e28-4948-a7b7-77b37c7a4fad\",\"type\":\"WheelZoomTool\"},{\"id\":\"108bf453-4bc2-479b-aab6-122a22844643\",\"type\":\"BoxZoomTool\"},{\"id\":\"29c0c949-3c17-42b5-97e5-3777685ad003\",\"type\":\"SaveTool\"},{\"id\":\"3e943dd3-3996-4eda-a0af-9a89a242fb6b\",\"type\":\"ResetTool\"},{\"id\":\"c54b7d08-67f9-49f4-b4af-ca77e2ce9c95\",\"type\":\"HelpTool\"}]},\"id\":\"66fe4828-8e7c-4188-bbb4-51b1c6ab4d59\",\"type\":\"Toolbar\"},{\"attributes\":{},\"id\":\"104ccc70-f6d8-4d07-a1a7-ecaed90cdbe8\",\"type\":\"BasicTicker\"},{\"attributes\":{\"fill_alpha\":{\"field\":\"fill_alpha\"},\"fill_color\":{\"field\":\"color\"},\"height\":{\"field\":\"height\",\"units\":\"data\"},\"line_color\":{\"field\":\"line_color\"},\"width\":{\"field\":\"width\",\"units\":\"data\"},\"x\":{\"field\":\"x\"},\"y\":{\"field\":\"y\"}},\"id\":\"dfd41a1a-0844-472d-a588-1a1396da7a77\",\"type\":\"Rect\"},{\"attributes\":{\"fill_alpha\":{\"field\":\"fill_alpha\"},\"fill_color\":{\"field\":\"color\"},\"height\":{\"field\":\"height\",\"units\":\"data\"},\"line_color\":{\"field\":\"line_color\"},\"width\":{\"field\":\"width\",\"units\":\"data\"},\"x\":{\"field\":\"x\"},\"y\":{\"field\":\"y\"}},\"id\":\"f427cfca-a150-4f73-9359-fe079f94c466\",\"type\":\"Rect\"},{\"attributes\":{\"data_source\":{\"id\":\"8fa22ab3-7de8-4aae-bd7f-1f4f91f42865\",\"type\":\"ColumnDataSource\"},\"glyph\":{\"id\":\"38be152c-0615-436d-b49d-f49df0a78d40\",\"type\":\"Rect\"},\"hover_glyph\":null,\"nonselection_glyph\":null,\"selection_glyph\":null},\"id\":\"b7e29bb6-7ddc-4f56-8ec5-d795239e836c\",\"type\":\"GlyphRenderer\"},{\"attributes\":{\"dimension\":1,\"plot\":{\"id\":\"30bc72e8-c87e-4e12-8dfe-0c06c101abe8\",\"subtype\":\"Chart\",\"type\":\"Plot\"},\"ticker\":{\"id\":\"104ccc70-f6d8-4d07-a1a7-ecaed90cdbe8\",\"type\":\"BasicTicker\"}},\"id\":\"192c9bba-a687-4430-85d2-3666fe497189\",\"type\":\"Grid\"},{\"attributes\":{\"fill_alpha\":{\"field\":\"fill_alpha\"},\"fill_color\":{\"field\":\"color\"},\"height\":{\"field\":\"height\",\"units\":\"data\"},\"line_color\":{\"field\":\"line_color\"},\"width\":{\"field\":\"width\",\"units\":\"data\"},\"x\":{\"field\":\"x\"},\"y\":{\"field\":\"y\"}},\"id\":\"aef14891-a8ba-4ad8-8635-b2db9a2df193\",\"type\":\"Rect\"},{\"attributes\":{\"data_source\":{\"id\":\"3d573630-cc76-4dbf-a61d-671bbc164095\",\"type\":\"ColumnDataSource\"},\"glyph\":{\"id\":\"baea8c52-4e1a-424b-860b-c0cbcf445ad2\",\"type\":\"Rect\"},\"hover_glyph\":null,\"nonselection_glyph\":null,\"selection_glyph\":null},\"id\":\"3803b870-e67b-4f23-9102-8d35f86a3509\",\"type\":\"GlyphRenderer\"},{\"attributes\":{\"callback\":null,\"column_names\":[\"line_color\",\"line_alpha\",\"color\",\"fill_alpha\",\"height\",\"width\",\"y\",\"x\",\"label\"],\"data\":{\"chart_index\":[{\"name\":\"AirAsia X\"}],\"color\":[\"#f22c40\"],\"fill_alpha\":[0.8],\"height\":[4707.871646146098],\"label\":[{\"name\":\"AirAsia X\"}],\"line_alpha\":[1.0],\"line_color\":[\"white\"],\"name\":[\"AirAsia X\"],\"width\":[0.8],\"x\":[\"AirAsia X\"],\"y\":[2353.935823073049]}},\"id\":\"94fd471c-f757-4abe-a7ae-12306c31035a\",\"type\":\"ColumnDataSource\"},{\"attributes\":{},\"id\":\"07b37c49-28e4-4f4d-a2db-4d729aa8bab5\",\"type\":\"CategoricalTicker\"},{\"attributes\":{\"bottom_units\":\"screen\",\"fill_alpha\":{\"value\":0.5},\"fill_color\":{\"value\":\"lightgrey\"},\"left_units\":\"screen\",\"level\":\"overlay\",\"line_alpha\":{\"value\":1.0},\"line_color\":{\"value\":\"black\"},\"line_dash\":[4,4],\"line_width\":{\"value\":2},\"plot\":null,\"render_mode\":\"css\",\"right_units\":\"screen\",\"top_units\":\"screen\"},\"id\":\"a6819d22-9c56-4f6a-8008-0e50bf5d0053\",\"type\":\"BoxAnnotation\"},{\"attributes\":{\"callback\":null,\"column_names\":[\"line_color\",\"line_alpha\",\"color\",\"fill_alpha\",\"height\",\"width\",\"y\",\"x\",\"label\"],\"data\":{\"chart_index\":[{\"name\":\"Emirates\"}],\"color\":[\"#f22c40\"],\"fill_alpha\":[0.8],\"height\":[4729.250717269032],\"label\":[{\"name\":\"Emirates\"}],\"line_alpha\":[1.0],\"line_color\":[\"white\"],\"name\":[\"Emirates\"],\"width\":[0.8],\"x\":[\"Emirates\"],\"y\":[2364.625358634516]}},\"id\":\"08c9b48c-469a-42a3-9647-eca11e37242f\",\"type\":\"ColumnDataSource\"},{\"attributes\":{\"callback\":null,\"column_names\":[\"line_color\",\"line_alpha\",\"color\",\"fill_alpha\",\"height\",\"width\",\"y\",\"x\",\"label\"],\"data\":{\"chart_index\":[{\"name\":\"Hawaiian Airlines\"}],\"color\":[\"#f22c40\"],\"fill_alpha\":[0.8],\"height\":[3922.0791380855358],\"label\":[{\"name\":\"Hawaiian Airlines\"}],\"line_alpha\":[1.0],\"line_color\":[\"white\"],\"name\":[\"Hawaiian Airlines\"],\"width\":[0.8],\"x\":[\"Hawaiian Airlines\"],\"y\":[1961.0395690427679]}},\"id\":\"fa21df57-3d9f-4a62-81aa-9493d812e08f\",\"type\":\"ColumnDataSource\"},{\"attributes\":{\"fill_alpha\":{\"field\":\"fill_alpha\"},\"fill_color\":{\"field\":\"color\"},\"height\":{\"field\":\"height\",\"units\":\"data\"},\"line_color\":{\"field\":\"line_color\"},\"width\":{\"field\":\"width\",\"units\":\"data\"},\"x\":{\"field\":\"x\"},\"y\":{\"field\":\"y\"}},\"id\":\"baea8c52-4e1a-424b-860b-c0cbcf445ad2\",\"type\":\"Rect\"},{\"attributes\":{\"callback\":null,\"column_names\":[\"line_color\",\"line_alpha\",\"color\",\"fill_alpha\",\"height\",\"width\",\"y\",\"x\",\"label\"],\"data\":{\"chart_index\":[{\"name\":\"Albanian Airlines\"}],\"color\":[\"#f22c40\"],\"fill_alpha\":[0.8],\"height\":[5861.977267674689],\"label\":[{\"name\":\"Albanian Airlines\"}],\"line_alpha\":[1.0],\"line_color\":[\"white\"],\"name\":[\"Albanian Airlines\"],\"width\":[0.8],\"x\":[\"Albanian Airlines\"],\"y\":[2930.9886338373444]}},\"id\":\"fefe0607-580e-4658-8177-6a3e55b5920d\",\"type\":\"ColumnDataSource\"},{\"attributes\":{\"callback\":null,\"column_names\":[\"line_color\",\"line_alpha\",\"color\",\"fill_alpha\",\"height\",\"width\",\"y\",\"x\",\"label\"],\"data\":{\"chart_index\":[{\"name\":\"Air Tahiti Nui\"}],\"color\":[\"#f22c40\"],\"fill_alpha\":[0.8],\"height\":[4434.483659030304],\"label\":[{\"name\":\"Air Tahiti Nui\"}],\"line_alpha\":[1.0],\"line_color\":[\"white\"],\"name\":[\"Air Tahiti Nui\"],\"width\":[0.8],\"x\":[\"Air Tahiti Nui\"],\"y\":[2217.241829515152]}},\"id\":\"8fa22ab3-7de8-4aae-bd7f-1f4f91f42865\",\"type\":\"ColumnDataSource\"},{\"attributes\":{\"data_source\":{\"id\":\"ac8cd28e-83c8-4a31-8ac4-f8983c5fe8e4\",\"type\":\"ColumnDataSource\"},\"glyph\":{\"id\":\"313cbb0b-70cb-4f0d-9fc8-4c78ce6058e3\",\"type\":\"Rect\"},\"hover_glyph\":null,\"nonselection_glyph\":null,\"selection_glyph\":null},\"id\":\"3bd2007b-b7c1-449f-8ab1-bd43e4ec8ed7\",\"type\":\"GlyphRenderer\"},{\"attributes\":{\"callback\":null,\"column_names\":[\"line_color\",\"line_alpha\",\"color\",\"fill_alpha\",\"height\",\"width\",\"y\",\"x\",\"label\"],\"data\":{\"chart_index\":[{\"name\":\"XL Airways France\"}],\"color\":[\"#f22c40\"],\"fill_alpha\":[0.8],\"height\":[4649.944174435246],\"label\":[{\"name\":\"XL Airways France\"}],\"line_alpha\":[1.0],\"line_color\":[\"white\"],\"name\":[\"XL Airways France\"],\"width\":[0.8],\"x\":[\"XL Airways France\"],\"y\":[2324.972087217623]}},\"id\":\"ac8cd28e-83c8-4a31-8ac4-f8983c5fe8e4\",\"type\":\"ColumnDataSource\"},{\"attributes\":{\"overlay\":{\"id\":\"a6819d22-9c56-4f6a-8008-0e50bf5d0053\",\"type\":\"BoxAnnotation\"},\"plot\":{\"id\":\"30bc72e8-c87e-4e12-8dfe-0c06c101abe8\",\"subtype\":\"Chart\",\"type\":\"Plot\"}},\"id\":\"108bf453-4bc2-479b-aab6-122a22844643\",\"type\":\"BoxZoomTool\"},{\"attributes\":{\"data_source\":{\"id\":\"79d9e379-d5f1-45f0-8a35-f6f4c261700d\",\"type\":\"ColumnDataSource\"},\"glyph\":{\"id\":\"083c378d-b508-4cf0-a8f9-92febb4e3c4c\",\"type\":\"Rect\"},\"hover_glyph\":null,\"nonselection_glyph\":null,\"selection_glyph\":null},\"id\":\"68d61b55-4e10-48d5-a839-4c71d7b974ff\",\"type\":\"GlyphRenderer\"},{\"attributes\":{\"callback\":null,\"column_names\":[\"line_color\",\"line_alpha\",\"color\",\"fill_alpha\",\"height\",\"width\",\"y\",\"x\",\"label\"],\"data\":{\"chart_index\":[{\"name\":\"Air Italy\"}],\"color\":[\"#f22c40\"],\"fill_alpha\":[0.8],\"height\":[3922.6374670884916],\"label\":[{\"name\":\"Air Italy\"}],\"line_alpha\":[1.0],\"line_color\":[\"white\"],\"name\":[\"Air Italy\"],\"width\":[0.8],\"x\":[\"Air Italy\"],\"y\":[1961.3187335442458]}},\"id\":\"c33dda22-854c-43e8-b2a3-1cc2a775c2ab\",\"type\":\"ColumnDataSource\"},{\"attributes\":{\"plot\":{\"id\":\"30bc72e8-c87e-4e12-8dfe-0c06c101abe8\",\"subtype\":\"Chart\",\"type\":\"Plot\"}},\"id\":\"29c0c949-3c17-42b5-97e5-3777685ad003\",\"type\":\"SaveTool\"},{\"attributes\":{\"data_source\":{\"id\":\"f97f248c-afc1-4cc8-b7e9-960ecf4ae371\",\"type\":\"ColumnDataSource\"},\"glyph\":{\"id\":\"f0747d9a-d211-4067-a225-94bfcb3bd900\",\"type\":\"Rect\"},\"hover_glyph\":null,\"nonselection_glyph\":null,\"selection_glyph\":null},\"id\":\"abff5f65-79d7-493d-bec4-bd9d207523b5\",\"type\":\"GlyphRenderer\"},{\"attributes\":{\"data_source\":{\"id\":\"1cd74d6f-aa4f-4fec-a2af-89d741ad5939\",\"type\":\"ColumnDataSource\"},\"glyph\":{\"id\":\"ae389ca8-1fb5-4d91-9b96-f65d13a8f599\",\"type\":\"Rect\"},\"hover_glyph\":null,\"nonselection_glyph\":null,\"selection_glyph\":null},\"id\":\"76e1dab3-8b51-468f-8fc3-29491b4c86f7\",\"type\":\"GlyphRenderer\"},{\"attributes\":{\"callback\":null,\"column_names\":[\"line_color\",\"line_alpha\",\"color\",\"fill_alpha\",\"height\",\"width\",\"y\",\"x\",\"label\"],\"data\":{\"chart_index\":[{\"name\":\"LAN Argentina\"}],\"color\":[\"#f22c40\"],\"fill_alpha\":[0.8],\"height\":[6332.122404571283],\"label\":[{\"name\":\"LAN Argentina\"}],\"line_alpha\":[1.0],\"line_color\":[\"white\"],\"name\":[\"LAN Argentina\"],\"width\":[0.8],\"x\":[\"LAN Argentina\"],\"y\":[3166.0612022856417]}},\"id\":\"f97f248c-afc1-4cc8-b7e9-960ecf4ae371\",\"type\":\"ColumnDataSource\"},{\"attributes\":{\"data_source\":{\"id\":\"08c9b48c-469a-42a3-9647-eca11e37242f\",\"type\":\"ColumnDataSource\"},\"glyph\":{\"id\":\"cc4ad733-ff5f-4f02-be5b-fc9ba06f4f5a\",\"type\":\"Rect\"},\"hover_glyph\":null,\"nonselection_glyph\":null,\"selection_glyph\":null},\"id\":\"43678866-c0e0-4d6e-95bf-b154780e2dc2\",\"type\":\"GlyphRenderer\"},{\"attributes\":{\"callback\":null,\"factors\":[\"Air Cara\\u00efbes\",\"Air Italy\",\"Air Mauritius\",\"Air Tahiti Nui\",\"Air Transat\",\"AirAsia X\",\"Albanian Airlines\",\"Arkefly\",\"Cathay Pacific\",\"Compagnie Africaine d\\\\\\\\'Aviation\",\"Corsairfly\",\"El Al Israel Airlines\",\"Emirates\",\"Etihad Airways\",\"Hawaiian Airlines\",\"LAN Argentina\",\"Singapore Airlines\",\"SmartLynx Airlines\",\"Thai Airways International\",\"Virgin Atlantic Airways\",\"XL Airways France\"]},\"id\":\"b1b5033b-3a4d-4ed5-a518-9c6d36900832\",\"type\":\"FactorRange\"},{\"attributes\":{\"data_source\":{\"id\":\"b0c3cd54-b6c9-4ef8-b165-c654e08eebe5\",\"type\":\"ColumnDataSource\"},\"glyph\":{\"id\":\"71891970-464b-41db-bed0-bc1cb63788fd\",\"type\":\"Rect\"},\"hover_glyph\":null,\"nonselection_glyph\":null,\"selection_glyph\":null},\"id\":\"d6969b95-3e10-40ba-ae11-612918cf2a0a\",\"type\":\"GlyphRenderer\"},{\"attributes\":{\"fill_alpha\":{\"field\":\"fill_alpha\"},\"fill_color\":{\"field\":\"color\"},\"height\":{\"field\":\"height\",\"units\":\"data\"},\"line_color\":{\"field\":\"line_color\"},\"width\":{\"field\":\"width\",\"units\":\"data\"},\"x\":{\"field\":\"x\"},\"y\":{\"field\":\"y\"}},\"id\":\"5627b01c-01a5-4c58-8c58-ed44f3cd7995\",\"type\":\"Rect\"},{\"attributes\":{\"data_source\":{\"id\":\"fa21df57-3d9f-4a62-81aa-9493d812e08f\",\"type\":\"ColumnDataSource\"},\"glyph\":{\"id\":\"458cf269-22da-468e-ac59-90d1779e6aac\",\"type\":\"Rect\"},\"hover_glyph\":null,\"nonselection_glyph\":null,\"selection_glyph\":null},\"id\":\"33880961-9623-4972-9ef2-728d3d5d26cf\",\"type\":\"GlyphRenderer\"},{\"attributes\":{\"fill_alpha\":{\"field\":\"fill_alpha\"},\"fill_color\":{\"field\":\"color\"},\"height\":{\"field\":\"height\",\"units\":\"data\"},\"line_color\":{\"field\":\"line_color\"},\"width\":{\"field\":\"width\",\"units\":\"data\"},\"x\":{\"field\":\"x\"},\"y\":{\"field\":\"y\"}},\"id\":\"0b1097bb-238b-4b75-9b11-7a40702ccf18\",\"type\":\"Rect\"},{\"attributes\":{\"fill_alpha\":{\"field\":\"fill_alpha\"},\"fill_color\":{\"field\":\"color\"},\"height\":{\"field\":\"height\",\"units\":\"data\"},\"line_color\":{\"field\":\"line_color\"},\"width\":{\"field\":\"width\",\"units\":\"data\"},\"x\":{\"field\":\"x\"},\"y\":{\"field\":\"y\"}},\"id\":\"cc4ad733-ff5f-4f02-be5b-fc9ba06f4f5a\",\"type\":\"Rect\"},{\"attributes\":{\"fill_alpha\":{\"field\":\"fill_alpha\"},\"fill_color\":{\"field\":\"color\"},\"height\":{\"field\":\"height\",\"units\":\"data\"},\"line_color\":{\"field\":\"line_color\"},\"width\":{\"field\":\"width\",\"units\":\"data\"},\"x\":{\"field\":\"x\"},\"y\":{\"field\":\"y\"}},\"id\":\"4cfe3ba7-2647-4cf6-9347-1eae5990a54e\",\"type\":\"Rect\"},{\"attributes\":{\"data_source\":{\"id\":\"7a23d8e4-5356-40da-9271-5561ef153b48\",\"type\":\"ColumnDataSource\"},\"glyph\":{\"id\":\"0b1097bb-238b-4b75-9b11-7a40702ccf18\",\"type\":\"Rect\"},\"hover_glyph\":null,\"nonselection_glyph\":null,\"selection_glyph\":null},\"id\":\"c9166e18-c0d4-4420-a2ac-314f944a13b1\",\"type\":\"GlyphRenderer\"},{\"attributes\":{\"callback\":null,\"column_names\":[\"line_color\",\"line_alpha\",\"color\",\"fill_alpha\",\"height\",\"width\",\"y\",\"x\",\"label\"],\"data\":{\"chart_index\":[{\"name\":\"Virgin Atlantic Airways\"}],\"color\":[\"#f22c40\"],\"fill_alpha\":[0.8],\"height\":[3699.572568040352],\"label\":[{\"name\":\"Virgin Atlantic Airways\"}],\"line_alpha\":[1.0],\"line_color\":[\"white\"],\"name\":[\"Virgin Atlantic Airways\"],\"width\":[0.8],\"x\":[\"Virgin Atlantic Airways\"],\"y\":[1849.786284020176]}},\"id\":\"08be76e4-f2f0-49b0-814b-af5b4fa163c3\",\"type\":\"ColumnDataSource\"},{\"attributes\":{\"fill_alpha\":{\"field\":\"fill_alpha\"},\"fill_color\":{\"field\":\"color\"},\"height\":{\"field\":\"height\",\"units\":\"data\"},\"line_color\":{\"field\":\"line_color\"},\"width\":{\"field\":\"width\",\"units\":\"data\"},\"x\":{\"field\":\"x\"},\"y\":{\"field\":\"y\"}},\"id\":\"c53d8a70-d0eb-428b-82ca-eccd93d4d785\",\"type\":\"Rect\"},{\"attributes\":{\"plot\":null,\"text\":\"Average airline route lengths\"},\"id\":\"23b4bb60-7236-4f4d-bae2-7211d215fda5\",\"type\":\"Title\"},{\"attributes\":{\"plot\":{\"id\":\"30bc72e8-c87e-4e12-8dfe-0c06c101abe8\",\"subtype\":\"Chart\",\"type\":\"Plot\"}},\"id\":\"404fd043-0e28-4948-a7b7-77b37c7a4fad\",\"type\":\"WheelZoomTool\"},{\"attributes\":{\"data_source\":{\"id\":\"94fd471c-f757-4abe-a7ae-12306c31035a\",\"type\":\"ColumnDataSource\"},\"glyph\":{\"id\":\"70937b5f-5dd5-4e12-a083-e7df1dd9e13d\",\"type\":\"Rect\"},\"hover_glyph\":null,\"nonselection_glyph\":null,\"selection_glyph\":null},\"id\":\"1134687a-a4f1-4958-b562-4c5be3cdebc6\",\"type\":\"GlyphRenderer\"},{\"attributes\":{\"plot\":{\"id\":\"30bc72e8-c87e-4e12-8dfe-0c06c101abe8\",\"subtype\":\"Chart\",\"type\":\"Plot\"}},\"id\":\"c54b7d08-67f9-49f4-b4af-ca77e2ce9c95\",\"type\":\"HelpTool\"},{\"attributes\":{\"data_source\":{\"id\":\"439aabc1-5c24-4840-91e5-02b5facf11fe\",\"type\":\"ColumnDataSource\"},\"glyph\":{\"id\":\"21468d99-5796-4608-9bf6-eb686c0647c4\",\"type\":\"Rect\"},\"hover_glyph\":null,\"nonselection_glyph\":null,\"selection_glyph\":null},\"id\":\"dafe2d13-2aed-4d65-b323-2b3cde51f13c\",\"type\":\"GlyphRenderer\"},{\"attributes\":{\"data_source\":{\"id\":\"75df9fc3-15f0-4e6a-b6b0-ce01ebd31d1a\",\"type\":\"ColumnDataSource\"},\"glyph\":{\"id\":\"dfd41a1a-0844-472d-a588-1a1396da7a77\",\"type\":\"Rect\"},\"hover_glyph\":null,\"nonselection_glyph\":null,\"selection_glyph\":null},\"id\":\"ce19860b-952c-4cac-ae07-bc5e2519d8e3\",\"type\":\"GlyphRenderer\"},{\"attributes\":{},\"id\":\"62d10e6e-1815-464c-8fcc-dc2940ef85ad\",\"type\":\"BasicTickFormatter\"},{\"attributes\":{},\"id\":\"e8181d70-8bfa-45fc-b8f1-61f06ff5612f\",\"type\":\"CategoricalTickFormatter\"},{\"attributes\":{\"fill_alpha\":{\"field\":\"fill_alpha\"},\"fill_color\":{\"field\":\"color\"},\"height\":{\"field\":\"height\",\"units\":\"data\"},\"line_color\":{\"field\":\"line_color\"},\"width\":{\"field\":\"width\",\"units\":\"data\"},\"x\":{\"field\":\"x\"},\"y\":{\"field\":\"y\"}},\"id\":\"38be152c-0615-436d-b49d-f49df0a78d40\",\"type\":\"Rect\"},{\"attributes\":{\"data_source\":{\"id\":\"bccbe7b6-3b66-4090-9c62-202daa172f3f\",\"type\":\"ColumnDataSource\"},\"glyph\":{\"id\":\"ce231e00-6774-47e2-945e-ee1381dcd6b1\",\"type\":\"Rect\"},\"hover_glyph\":null,\"nonselection_glyph\":null,\"selection_glyph\":null},\"id\":\"6f219256-193a-470a-a6d0-2ae107984654\",\"type\":\"GlyphRenderer\"},{\"attributes\":{\"below\":[{\"id\":\"98d4f7f7-bb06-4c0d-a056-90115df2078a\",\"type\":\"CategoricalAxis\"}],\"left\":[{\"id\":\"84e84725-ff86-457c-b4a0-8dcb0eb559cb\",\"type\":\"LinearAxis\"}],\"renderers\":[{\"id\":\"a6819d22-9c56-4f6a-8008-0e50bf5d0053\",\"type\":\"BoxAnnotation\"},{\"id\":\"6117d0cb-4604-4358-8287-ccc43f38d440\",\"type\":\"GlyphRenderer\"},{\"id\":\"abff5f65-79d7-493d-bec4-bd9d207523b5\",\"type\":\"GlyphRenderer\"},{\"id\":\"1478a0f3-fd43-417d-aadb-45eb167bbd18\",\"type\":\"GlyphRenderer\"},{\"id\":\"c9166e18-c0d4-4420-a2ac-314f944a13b1\",\"type\":\"GlyphRenderer\"},{\"id\":\"43678866-c0e0-4d6e-95bf-b154780e2dc2\",\"type\":\"GlyphRenderer\"},{\"id\":\"1134687a-a4f1-4958-b562-4c5be3cdebc6\",\"type\":\"GlyphRenderer\"},{\"id\":\"3bd2007b-b7c1-449f-8ab1-bd43e4ec8ed7\",\"type\":\"GlyphRenderer\"},{\"id\":\"ce19860b-952c-4cac-ae07-bc5e2519d8e3\",\"type\":\"GlyphRenderer\"},{\"id\":\"b7e29bb6-7ddc-4f56-8ec5-d795239e836c\",\"type\":\"GlyphRenderer\"},{\"id\":\"dafe2d13-2aed-4d65-b323-2b3cde51f13c\",\"type\":\"GlyphRenderer\"},{\"id\":\"034dfe97-2e5b-4136-9196-d6f46d2ff73f\",\"type\":\"GlyphRenderer\"},{\"id\":\"d6969b95-3e10-40ba-ae11-612918cf2a0a\",\"type\":\"GlyphRenderer\"},{\"id\":\"3803b870-e67b-4f23-9102-8d35f86a3509\",\"type\":\"GlyphRenderer\"},{\"id\":\"76e1dab3-8b51-468f-8fc3-29491b4c86f7\",\"type\":\"GlyphRenderer\"},{\"id\":\"531f7493-1490-4348-a370-6254199d9663\",\"type\":\"GlyphRenderer\"},{\"id\":\"33880961-9623-4972-9ef2-728d3d5d26cf\",\"type\":\"GlyphRenderer\"},{\"id\":\"6f219256-193a-470a-a6d0-2ae107984654\",\"type\":\"GlyphRenderer\"},{\"id\":\"5c7ba10c-7c7d-4dd9-9bbd-a1abd7e7d1d0\",\"type\":\"GlyphRenderer\"},{\"id\":\"a3485295-1218-4129-83aa-5eab365ef571\",\"type\":\"GlyphRenderer\"},{\"id\":\"9640e1bf-3c48-4508-822d-4a25e10d92d8\",\"type\":\"GlyphRenderer\"},{\"id\":\"68d61b55-4e10-48d5-a839-4c71d7b974ff\",\"type\":\"GlyphRenderer\"},{\"id\":\"98d4f7f7-bb06-4c0d-a056-90115df2078a\",\"type\":\"CategoricalAxis\"},{\"id\":\"84e84725-ff86-457c-b4a0-8dcb0eb559cb\",\"type\":\"LinearAxis\"},{\"id\":\"192c9bba-a687-4430-85d2-3666fe497189\",\"type\":\"Grid\"}],\"title\":{\"id\":\"23b4bb60-7236-4f4d-bae2-7211d215fda5\",\"type\":\"Title\"},\"tool_events\":{\"id\":\"42e2cbe7-93d8-4c8c-8e25-cee591a249a2\",\"type\":\"ToolEvents\"},\"toolbar\":{\"id\":\"66fe4828-8e7c-4188-bbb4-51b1c6ab4d59\",\"type\":\"Toolbar\"},\"x_mapper_type\":\"auto\",\"x_range\":{\"id\":\"b1b5033b-3a4d-4ed5-a518-9c6d36900832\",\"type\":\"FactorRange\"},\"y_mapper_type\":\"auto\",\"y_range\":{\"id\":\"f5c1c006-96f8-403b-8a72-78e75d1b76db\",\"type\":\"Range1d\"}},\"id\":\"30bc72e8-c87e-4e12-8dfe-0c06c101abe8\",\"subtype\":\"Chart\",\"type\":\"Plot\"},{\"attributes\":{\"data_source\":{\"id\":\"fd81bd3d-7ef6-44d2-9c6e-705b6288cdbc\",\"type\":\"ColumnDataSource\"},\"glyph\":{\"id\":\"c53d8a70-d0eb-428b-82ca-eccd93d4d785\",\"type\":\"Rect\"},\"hover_glyph\":null,\"nonselection_glyph\":null,\"selection_glyph\":null},\"id\":\"034dfe97-2e5b-4136-9196-d6f46d2ff73f\",\"type\":\"GlyphRenderer\"},{\"attributes\":{\"callback\":null,\"column_names\":[\"line_color\",\"line_alpha\",\"color\",\"fill_alpha\",\"height\",\"width\",\"y\",\"x\",\"label\"],\"data\":{\"chart_index\":[{\"name\":\"Cathay Pacific\"}],\"color\":[\"#f22c40\"],\"fill_alpha\":[0.8],\"height\":[3777.6798982999817],\"label\":[{\"name\":\"Cathay Pacific\"}],\"line_alpha\":[1.0],\"line_color\":[\"white\"],\"name\":[\"Cathay Pacific\"],\"width\":[0.8],\"x\":[\"Cathay Pacific\"],\"y\":[1888.8399491499908]}},\"id\":\"fb6d3109-d8f2-46c8-b4c0-4408336db2ca\",\"type\":\"ColumnDataSource\"},{\"attributes\":{\"axis_label\":\"Sum( Length )\",\"formatter\":{\"id\":\"62d10e6e-1815-464c-8fcc-dc2940ef85ad\",\"type\":\"BasicTickFormatter\"},\"plot\":{\"id\":\"30bc72e8-c87e-4e12-8dfe-0c06c101abe8\",\"subtype\":\"Chart\",\"type\":\"Plot\"},\"ticker\":{\"id\":\"104ccc70-f6d8-4d07-a1a7-ecaed90cdbe8\",\"type\":\"BasicTicker\"}},\"id\":\"84e84725-ff86-457c-b4a0-8dcb0eb559cb\",\"type\":\"LinearAxis\"},{\"attributes\":{\"fill_alpha\":{\"field\":\"fill_alpha\"},\"fill_color\":{\"field\":\"color\"},\"height\":{\"field\":\"height\",\"units\":\"data\"},\"line_color\":{\"field\":\"line_color\"},\"width\":{\"field\":\"width\",\"units\":\"data\"},\"x\":{\"field\":\"x\"},\"y\":{\"field\":\"y\"}},\"id\":\"d5fcfe74-d940-44fd-be3d-ac3808f0fced\",\"type\":\"Rect\"},{\"attributes\":{\"fill_alpha\":{\"field\":\"fill_alpha\"},\"fill_color\":{\"field\":\"color\"},\"height\":{\"field\":\"height\",\"units\":\"data\"},\"line_color\":{\"field\":\"line_color\"},\"width\":{\"field\":\"width\",\"units\":\"data\"},\"x\":{\"field\":\"x\"},\"y\":{\"field\":\"y\"}},\"id\":\"f0747d9a-d211-4067-a225-94bfcb3bd900\",\"type\":\"Rect\"},{\"attributes\":{\"fill_alpha\":{\"field\":\"fill_alpha\"},\"fill_color\":{\"field\":\"color\"},\"height\":{\"field\":\"height\",\"units\":\"data\"},\"line_color\":{\"field\":\"line_color\"},\"width\":{\"field\":\"width\",\"units\":\"data\"},\"x\":{\"field\":\"x\"},\"y\":{\"field\":\"y\"}},\"id\":\"458cf269-22da-468e-ac59-90d1779e6aac\",\"type\":\"Rect\"},{\"attributes\":{},\"id\":\"42e2cbe7-93d8-4c8c-8e25-cee591a249a2\",\"type\":\"ToolEvents\"},{\"attributes\":{\"data_source\":{\"id\":\"fefe0607-580e-4658-8177-6a3e55b5920d\",\"type\":\"ColumnDataSource\"},\"glyph\":{\"id\":\"d5fcfe74-d940-44fd-be3d-ac3808f0fced\",\"type\":\"Rect\"},\"hover_glyph\":null,\"nonselection_glyph\":null,\"selection_glyph\":null},\"id\":\"1478a0f3-fd43-417d-aadb-45eb167bbd18\",\"type\":\"GlyphRenderer\"},{\"attributes\":{\"callback\":null,\"end\":7623.843502504491},\"id\":\"f5c1c006-96f8-403b-8a72-78e75d1b76db\",\"type\":\"Range1d\"},{\"attributes\":{\"callback\":null,\"column_names\":[\"line_color\",\"line_alpha\",\"color\",\"fill_alpha\",\"height\",\"width\",\"y\",\"x\",\"label\"],\"data\":{\"chart_index\":[{\"name\":\"Air Mauritius\"}],\"color\":[\"#f22c40\"],\"fill_alpha\":[0.8],\"height\":[4297.762911055043],\"label\":[{\"name\":\"Air Mauritius\"}],\"line_alpha\":[1.0],\"line_color\":[\"white\"],\"name\":[\"Air Mauritius\"],\"width\":[0.8],\"x\":[\"Air Mauritius\"],\"y\":[2148.8814555275217]}},\"id\":\"fd81bd3d-7ef6-44d2-9c6e-705b6288cdbc\",\"type\":\"ColumnDataSource\"},{\"attributes\":{\"callback\":null,\"column_names\":[\"line_color\",\"line_alpha\",\"color\",\"fill_alpha\",\"height\",\"width\",\"y\",\"x\",\"label\"],\"data\":{\"chart_index\":[{\"name\":\"Singapore Airlines\"}],\"color\":[\"#f22c40\"],\"fill_alpha\":[0.8],\"height\":[4005.6667719479087],\"label\":[{\"name\":\"Singapore Airlines\"}],\"line_alpha\":[1.0],\"line_color\":[\"white\"],\"name\":[\"Singapore Airlines\"],\"width\":[0.8],\"x\":[\"Singapore Airlines\"],\"y\":[2002.8333859739544]}},\"id\":\"3d573630-cc76-4dbf-a61d-671bbc164095\",\"type\":\"ColumnDataSource\"},{\"attributes\":{\"callback\":null,\"column_names\":[\"line_color\",\"line_alpha\",\"color\",\"fill_alpha\",\"height\",\"width\",\"y\",\"x\",\"label\"],\"data\":{\"chart_index\":[{\"name\":\"SmartLynx Airlines\"}],\"color\":[\"#f22c40\"],\"fill_alpha\":[0.8],\"height\":[4504.587572932896],\"label\":[{\"name\":\"SmartLynx Airlines\"}],\"line_alpha\":[1.0],\"line_color\":[\"white\"],\"name\":[\"SmartLynx Airlines\"],\"width\":[0.8],\"x\":[\"SmartLynx Airlines\"],\"y\":[2252.293786466448]}},\"id\":\"75df9fc3-15f0-4e6a-b6b0-ce01ebd31d1a\",\"type\":\"ColumnDataSource\"},{\"attributes\":{\"callback\":null,\"column_names\":[\"line_color\",\"line_alpha\",\"color\",\"fill_alpha\",\"height\",\"width\",\"y\",\"x\",\"label\"],\"data\":{\"chart_index\":[{\"name\":\"Etihad Airways\"}],\"color\":[\"#f22c40\"],\"fill_alpha\":[0.8],\"height\":[3619.6343617372927],\"label\":[{\"name\":\"Etihad Airways\"}],\"line_alpha\":[1.0],\"line_color\":[\"white\"],\"name\":[\"Etihad Airways\"],\"width\":[0.8],\"x\":[\"Etihad Airways\"],\"y\":[1809.8171808686463]}},\"id\":\"79d9e379-d5f1-45f0-8a35-f6f4c261700d\",\"type\":\"ColumnDataSource\"},{\"attributes\":{\"callback\":null,\"column_names\":[\"line_color\",\"line_alpha\",\"color\",\"fill_alpha\",\"height\",\"width\",\"y\",\"x\",\"label\"],\"data\":{\"chart_index\":[{\"name\":\"El Al Israel Airlines\"}],\"color\":[\"#f22c40\"],\"fill_alpha\":[0.8],\"height\":[3918.9089729833163],\"label\":[{\"name\":\"El Al Israel Airlines\"}],\"line_alpha\":[1.0],\"line_color\":[\"white\"],\"name\":[\"El Al Israel Airlines\"],\"width\":[0.8],\"x\":[\"El Al Israel Airlines\"],\"y\":[1959.4544864916581]}},\"id\":\"bccbe7b6-3b66-4090-9c62-202daa172f3f\",\"type\":\"ColumnDataSource\"},{\"attributes\":{\"fill_alpha\":{\"field\":\"fill_alpha\"},\"fill_color\":{\"field\":\"color\"},\"height\":{\"field\":\"height\",\"units\":\"data\"},\"line_color\":{\"field\":\"line_color\"},\"width\":{\"field\":\"width\",\"units\":\"data\"},\"x\":{\"field\":\"x\"},\"y\":{\"field\":\"y\"}},\"id\":\"70937b5f-5dd5-4e12-a083-e7df1dd9e13d\",\"type\":\"Rect\"},{\"attributes\":{\"axis_label\":\"Name\",\"formatter\":{\"id\":\"e8181d70-8bfa-45fc-b8f1-61f06ff5612f\",\"type\":\"CategoricalTickFormatter\"},\"major_label_orientation\":0.7853981633974483,\"plot\":{\"id\":\"30bc72e8-c87e-4e12-8dfe-0c06c101abe8\",\"subtype\":\"Chart\",\"type\":\"Plot\"},\"ticker\":{\"id\":\"07b37c49-28e4-4f4d-a2db-4d729aa8bab5\",\"type\":\"CategoricalTicker\"}},\"id\":\"98d4f7f7-bb06-4c0d-a056-90115df2078a\",\"type\":\"CategoricalAxis\"},{\"attributes\":{\"callback\":null,\"column_names\":[\"line_color\",\"line_alpha\",\"color\",\"fill_alpha\",\"height\",\"width\",\"y\",\"x\",\"label\"],\"data\":{\"chart_index\":[{\"name\":\"Air Transat\"}],\"color\":[\"#f22c40\"],\"fill_alpha\":[0.8],\"height\":[4251.515922912846],\"label\":[{\"name\":\"Air Transat\"}],\"line_alpha\":[1.0],\"line_color\":[\"white\"],\"name\":[\"Air Transat\"],\"width\":[0.8],\"x\":[\"Air Transat\"],\"y\":[2125.757961456423]}},\"id\":\"b0c3cd54-b6c9-4ef8-b165-c654e08eebe5\",\"type\":\"ColumnDataSource\"},{\"attributes\":{\"callback\":null,\"column_names\":[\"line_color\",\"line_alpha\",\"color\",\"fill_alpha\",\"height\",\"width\",\"y\",\"x\",\"label\"],\"data\":{\"chart_index\":[{\"name\":\"Air Cara\\u00efbes\"}],\"color\":[\"#f22c40\"],\"fill_alpha\":[0.8],\"height\":[3963.388296298467],\"label\":[{\"name\":\"Air Cara\\u00efbes\"}],\"line_alpha\":[1.0],\"line_color\":[\"white\"],\"name\":[\"Air Cara\\u00efbes\"],\"width\":[0.8],\"x\":[\"Air Cara\\u00efbes\"],\"y\":[1981.6941481492336]}},\"id\":\"1cd74d6f-aa4f-4fec-a2af-89d741ad5939\",\"type\":\"ColumnDataSource\"},{\"attributes\":{\"fill_alpha\":{\"field\":\"fill_alpha\"},\"fill_color\":{\"field\":\"color\"},\"height\":{\"field\":\"height\",\"units\":\"data\"},\"line_color\":{\"field\":\"line_color\"},\"width\":{\"field\":\"width\",\"units\":\"data\"},\"x\":{\"field\":\"x\"},\"y\":{\"field\":\"y\"}},\"id\":\"083c378d-b508-4cf0-a8f9-92febb4e3c4c\",\"type\":\"Rect\"},{\"attributes\":{\"callback\":null,\"column_names\":[\"line_color\",\"line_alpha\",\"color\",\"fill_alpha\",\"height\",\"width\",\"y\",\"x\",\"label\"],\"data\":{\"chart_index\":[{\"name\":\"Compagnie Africaine d\\\\\\\\'Aviation\"}],\"color\":[\"#f22c40\"],\"fill_alpha\":[0.8],\"height\":[7260.803335718563],\"label\":[{\"name\":\"Compagnie Africaine d\\\\\\\\'Aviation\"}],\"line_alpha\":[1.0],\"line_color\":[\"white\"],\"name\":[\"Compagnie Africaine d\\\\\\\\'Aviation\"],\"width\":[0.8],\"x\":[\"Compagnie Africaine d\\\\\\\\'Aviation\"],\"y\":[3630.4016678592816]}},\"id\":\"af7fae72-2dc2-4b67-a541-ab2b2eed425e\",\"type\":\"ColumnDataSource\"},{\"attributes\":{\"data_source\":{\"id\":\"2fbe23d8-c815-41ba-b52a-e596e21eab3f\",\"type\":\"ColumnDataSource\"},\"glyph\":{\"id\":\"405c57c2-8e16-49c1-b266-07aa0e27fe0d\",\"type\":\"Rect\"},\"hover_glyph\":null,\"nonselection_glyph\":null,\"selection_glyph\":null},\"id\":\"9640e1bf-3c48-4508-822d-4a25e10d92d8\",\"type\":\"GlyphRenderer\"},{\"attributes\":{\"callback\":null,\"column_names\":[\"line_color\",\"line_alpha\",\"color\",\"fill_alpha\",\"height\",\"width\",\"y\",\"x\",\"label\"],\"data\":{\"chart_index\":[{\"name\":\"Arkefly\"}],\"color\":[\"#f22c40\"],\"fill_alpha\":[0.8],\"height\":[4943.9416902071935],\"label\":[{\"name\":\"Arkefly\"}],\"line_alpha\":[1.0],\"line_color\":[\"white\"],\"name\":[\"Arkefly\"],\"width\":[0.8],\"x\":[\"Arkefly\"],\"y\":[2471.9708451035967]}},\"id\":\"7a23d8e4-5356-40da-9271-5561ef153b48\",\"type\":\"ColumnDataSource\"},{\"attributes\":{\"fill_alpha\":{\"field\":\"fill_alpha\"},\"fill_color\":{\"field\":\"color\"},\"height\":{\"field\":\"height\",\"units\":\"data\"},\"line_color\":{\"field\":\"line_color\"},\"width\":{\"field\":\"width\",\"units\":\"data\"},\"x\":{\"field\":\"x\"},\"y\":{\"field\":\"y\"}},\"id\":\"ce231e00-6774-47e2-945e-ee1381dcd6b1\",\"type\":\"Rect\"},{\"attributes\":{\"fill_alpha\":{\"field\":\"fill_alpha\"},\"fill_color\":{\"field\":\"color\"},\"height\":{\"field\":\"height\",\"units\":\"data\"},\"line_color\":{\"field\":\"line_color\"},\"width\":{\"field\":\"width\",\"units\":\"data\"},\"x\":{\"field\":\"x\"},\"y\":{\"field\":\"y\"}},\"id\":\"21468d99-5796-4608-9bf6-eb686c0647c4\",\"type\":\"Rect\"},{\"attributes\":{\"plot\":{\"id\":\"30bc72e8-c87e-4e12-8dfe-0c06c101abe8\",\"subtype\":\"Chart\",\"type\":\"Plot\"}},\"id\":\"3e943dd3-3996-4eda-a0af-9a89a242fb6b\",\"type\":\"ResetTool\"},{\"attributes\":{\"fill_alpha\":{\"field\":\"fill_alpha\"},\"fill_color\":{\"field\":\"color\"},\"height\":{\"field\":\"height\",\"units\":\"data\"},\"line_color\":{\"field\":\"line_color\"},\"width\":{\"field\":\"width\",\"units\":\"data\"},\"x\":{\"field\":\"x\"},\"y\":{\"field\":\"y\"}},\"id\":\"ae389ca8-1fb5-4d91-9b96-f65d13a8f599\",\"type\":\"Rect\"},{\"attributes\":{\"plot\":{\"id\":\"30bc72e8-c87e-4e12-8dfe-0c06c101abe8\",\"subtype\":\"Chart\",\"type\":\"Plot\"}},\"id\":\"ccb931d2-6fba-44c4-bd7e-9069acdb9d82\",\"type\":\"PanTool\"},{\"attributes\":{\"callback\":null,\"column_names\":[\"line_color\",\"line_alpha\",\"color\",\"fill_alpha\",\"height\",\"width\",\"y\",\"x\",\"label\"],\"data\":{\"chart_index\":[{\"name\":\"Thai Airways International\"}],\"color\":[\"#f22c40\"],\"fill_alpha\":[0.8],\"height\":[3656.513701689466],\"label\":[{\"name\":\"Thai Airways International\"}],\"line_alpha\":[1.0],\"line_color\":[\"white\"],\"name\":[\"Thai Airways International\"],\"width\":[0.8],\"x\":[\"Thai Airways International\"],\"y\":[1828.256850844733]}},\"id\":\"2fbe23d8-c815-41ba-b52a-e596e21eab3f\",\"type\":\"ColumnDataSource\"},{\"attributes\":{\"data_source\":{\"id\":\"af7fae72-2dc2-4b67-a541-ab2b2eed425e\",\"type\":\"ColumnDataSource\"},\"glyph\":{\"id\":\"aef14891-a8ba-4ad8-8635-b2db9a2df193\",\"type\":\"Rect\"},\"hover_glyph\":null,\"nonselection_glyph\":null,\"selection_glyph\":null},\"id\":\"6117d0cb-4604-4358-8287-ccc43f38d440\",\"type\":\"GlyphRenderer\"},{\"attributes\":{\"data_source\":{\"id\":\"c33dda22-854c-43e8-b2a3-1cc2a775c2ab\",\"type\":\"ColumnDataSource\"},\"glyph\":{\"id\":\"4cfe3ba7-2647-4cf6-9347-1eae5990a54e\",\"type\":\"Rect\"},\"hover_glyph\":null,\"nonselection_glyph\":null,\"selection_glyph\":null},\"id\":\"531f7493-1490-4348-a370-6254199d9663\",\"type\":\"GlyphRenderer\"},{\"attributes\":{\"callback\":null,\"column_names\":[\"line_color\",\"line_alpha\",\"color\",\"fill_alpha\",\"height\",\"width\",\"y\",\"x\",\"label\"],\"data\":{\"chart_index\":[{\"name\":\"Corsairfly\"}],\"color\":[\"#f22c40\"],\"fill_alpha\":[0.8],\"height\":[4383.154273771759],\"label\":[{\"name\":\"Corsairfly\"}],\"line_alpha\":[1.0],\"line_color\":[\"white\"],\"name\":[\"Corsairfly\"],\"width\":[0.8],\"x\":[\"Corsairfly\"],\"y\":[2191.5771368858796]}},\"id\":\"439aabc1-5c24-4840-91e5-02b5facf11fe\",\"type\":\"ColumnDataSource\"}],\"root_ids\":[\"30bc72e8-c87e-4e12-8dfe-0c06c101abe8\"]},\"title\":\"Bokeh Application\",\"version\":\"0.12.3\"}};\n",
       "            var render_items = [{\"docid\":\"fba48624-6026-4925-a0dd-cbee15844c30\",\"elementid\":\"67b430fe-b242-4b79-9d4f-a8078d33b343\",\"modelid\":\"30bc72e8-c87e-4e12-8dfe-0c06c101abe8\"}];\n",
       "            \n",
       "            Bokeh.embed.embed_items(docs_json, render_items);\n",
       "        });\n",
       "      },\n",
       "      function(Bokeh) {\n",
       "      }\n",
       "    ];\n",
       "  \n",
       "    function run_inline_js() {\n",
       "      \n",
       "      if ((window.Bokeh !== undefined) || (force === \"1\")) {\n",
       "        for (var i = 0; i < inline_js.length; i++) {\n",
       "          inline_js[i](window.Bokeh);\n",
       "        }if (force === \"1\") {\n",
       "          display_loaded();\n",
       "        }} else if (Date.now() < window._bokeh_timeout) {\n",
       "        setTimeout(run_inline_js, 100);\n",
       "      } else if (!window._bokeh_failed_load) {\n",
       "        console.log(\"Bokeh: BokehJS failed to load within specified timeout.\");\n",
       "        window._bokeh_failed_load = true;\n",
       "      } else if (!force) {\n",
       "        var cell = $(\"#67b430fe-b242-4b79-9d4f-a8078d33b343\").parents('.cell').data().cell;\n",
       "        cell.output_area.append_execute_result(NB_LOAD_WARNING)\n",
       "      }\n",
       "  \n",
       "    }\n",
       "  \n",
       "    if (window._bokeh_is_loading === 0) {\n",
       "      console.log(\"Bokeh: BokehJS loaded, going straight to plotting\");\n",
       "      run_inline_js();\n",
       "    } else {\n",
       "      load_libs(js_urls, function() {\n",
       "        console.log(\"Bokeh: BokehJS plotting callback run at\", now());\n",
       "        run_inline_js();\n",
       "      });\n",
       "    }\n",
       "  }(this));\n",
       "</script>"
      ]
     },
     "metadata": {},
     "output_type": "display_data"
    }
   ],
   "source": [
    "from bokeh.io import output_notebook\n",
    "from bokeh.charts import Bar, show, output_file\n",
    "\n",
    "output_notebook()\n",
    "#output_file('bar1.html')\n",
    "p = Bar(airline_route_lengths.ix[:20,:], 'name', values='length', title=\"Average airline route lengths\", legend=None)\n",
    "show(p)"
   ]
  },
  {
   "cell_type": "code",
   "execution_count": 73,
   "metadata": {
    "collapsed": true
   },
   "outputs": [],
   "source": [
    "# Horizontal Bar Chart\n",
    "\n",
    "long_routes = len([k for k in route_lengths if k > 10000]) / float(len(route_lengths))\n",
    "medium_routes = len([k for k in route_lengths if k < 10000 and k > 2000]) / float(len(route_lengths))\n",
    "short_routes = len([k for k in route_lengths if k < 2000]) / float(len(route_lengths))"
   ]
  },
  {
   "cell_type": "code",
   "execution_count": 74,
   "metadata": {
    "collapsed": false
   },
   "outputs": [
    {
     "data": {
      "image/svg+xml": [
       "<svg class=\"pygal-chart\" id=\"chart-1bbbf325-df26-4c5e-b4e6-6079923de68d\" viewBox=\"0 0 800 600\" xmlns=\"http://www.w3.org/2000/svg\" xmlns:xlink=\"http://www.w3.org/1999/xlink\"><!--Generated with pygal 2.3.0 (lxml) ©Kozea 2012-2016 on 2016-11-08--><!--http://pygal.org--><!--http://github.com/Kozea/pygal--><defs><style type=\"text/css\">#chart-1bbbf325-df26-4c5e-b4e6-6079923de68d{-webkit-user-select:none;-webkit-font-smoothing:antialiased;font-family:Consolas,&quot;Liberation Mono&quot;,Menlo,Courier,monospace}#chart-1bbbf325-df26-4c5e-b4e6-6079923de68d .title{font-family:Consolas,&quot;Liberation Mono&quot;,Menlo,Courier,monospace;font-size:16px}#chart-1bbbf325-df26-4c5e-b4e6-6079923de68d .legends .legend text{font-family:Consolas,&quot;Liberation Mono&quot;,Menlo,Courier,monospace;font-size:14px}#chart-1bbbf325-df26-4c5e-b4e6-6079923de68d .axis text{font-family:Consolas,&quot;Liberation Mono&quot;,Menlo,Courier,monospace;font-size:10px}#chart-1bbbf325-df26-4c5e-b4e6-6079923de68d .axis text.major{font-family:Consolas,&quot;Liberation Mono&quot;,Menlo,Courier,monospace;font-size:10px}#chart-1bbbf325-df26-4c5e-b4e6-6079923de68d .text-overlay text.value{font-family:Consolas,&quot;Liberation Mono&quot;,Menlo,Courier,monospace;font-size:16px}#chart-1bbbf325-df26-4c5e-b4e6-6079923de68d .text-overlay text.label{font-family:Consolas,&quot;Liberation Mono&quot;,Menlo,Courier,monospace;font-size:10px}#chart-1bbbf325-df26-4c5e-b4e6-6079923de68d .tooltip{font-family:Consolas,&quot;Liberation Mono&quot;,Menlo,Courier,monospace;font-size:14px}#chart-1bbbf325-df26-4c5e-b4e6-6079923de68d text.no_data{font-family:Consolas,&quot;Liberation Mono&quot;,Menlo,Courier,monospace;font-size:64px}\n",
       "#chart-1bbbf325-df26-4c5e-b4e6-6079923de68d{background-color:rgba(249,249,249,1)}#chart-1bbbf325-df26-4c5e-b4e6-6079923de68d path,#chart-1bbbf325-df26-4c5e-b4e6-6079923de68d line,#chart-1bbbf325-df26-4c5e-b4e6-6079923de68d rect,#chart-1bbbf325-df26-4c5e-b4e6-6079923de68d circle{-webkit-transition:150ms;-moz-transition:150ms;transition:150ms}#chart-1bbbf325-df26-4c5e-b4e6-6079923de68d .graph &gt; .background{fill:rgba(249,249,249,1)}#chart-1bbbf325-df26-4c5e-b4e6-6079923de68d .plot &gt; .background{fill:rgba(255,255,255,1)}#chart-1bbbf325-df26-4c5e-b4e6-6079923de68d .graph{fill:rgba(0,0,0,.87)}#chart-1bbbf325-df26-4c5e-b4e6-6079923de68d text.no_data{fill:rgba(0,0,0,1)}#chart-1bbbf325-df26-4c5e-b4e6-6079923de68d .title{fill:rgba(0,0,0,1)}#chart-1bbbf325-df26-4c5e-b4e6-6079923de68d .legends .legend text{fill:rgba(0,0,0,.87)}#chart-1bbbf325-df26-4c5e-b4e6-6079923de68d .legends .legend:hover text{fill:rgba(0,0,0,1)}#chart-1bbbf325-df26-4c5e-b4e6-6079923de68d .axis .line{stroke:rgba(0,0,0,1)}#chart-1bbbf325-df26-4c5e-b4e6-6079923de68d .axis .guide.line{stroke:rgba(0,0,0,.54)}#chart-1bbbf325-df26-4c5e-b4e6-6079923de68d .axis .major.line{stroke:rgba(0,0,0,.87)}#chart-1bbbf325-df26-4c5e-b4e6-6079923de68d .axis text.major{fill:rgba(0,0,0,1)}#chart-1bbbf325-df26-4c5e-b4e6-6079923de68d .axis.y .guides:hover .guide.line,#chart-1bbbf325-df26-4c5e-b4e6-6079923de68d .line-graph .axis.x .guides:hover .guide.line,#chart-1bbbf325-df26-4c5e-b4e6-6079923de68d .stackedline-graph .axis.x .guides:hover .guide.line,#chart-1bbbf325-df26-4c5e-b4e6-6079923de68d .xy-graph .axis.x .guides:hover .guide.line{stroke:rgba(0,0,0,1)}#chart-1bbbf325-df26-4c5e-b4e6-6079923de68d .axis .guides:hover text{fill:rgba(0,0,0,1)}#chart-1bbbf325-df26-4c5e-b4e6-6079923de68d .reactive{fill-opacity:.7;stroke-opacity:.8}#chart-1bbbf325-df26-4c5e-b4e6-6079923de68d .ci{stroke:rgba(0,0,0,.87)}#chart-1bbbf325-df26-4c5e-b4e6-6079923de68d .reactive.active,#chart-1bbbf325-df26-4c5e-b4e6-6079923de68d .active .reactive{fill-opacity:.8;stroke-opacity:.9;stroke-width:4}#chart-1bbbf325-df26-4c5e-b4e6-6079923de68d .ci .reactive.active{stroke-width:1.5}#chart-1bbbf325-df26-4c5e-b4e6-6079923de68d .series text{fill:rgba(0,0,0,1)}#chart-1bbbf325-df26-4c5e-b4e6-6079923de68d .tooltip rect{fill:rgba(255,255,255,1);stroke:rgba(0,0,0,1);-webkit-transition:opacity 150ms;-moz-transition:opacity 150ms;transition:opacity 150ms}#chart-1bbbf325-df26-4c5e-b4e6-6079923de68d .tooltip .label{fill:rgba(0,0,0,.87)}#chart-1bbbf325-df26-4c5e-b4e6-6079923de68d .tooltip .label{fill:rgba(0,0,0,.87)}#chart-1bbbf325-df26-4c5e-b4e6-6079923de68d .tooltip .legend{font-size:.8em;fill:rgba(0,0,0,.54)}#chart-1bbbf325-df26-4c5e-b4e6-6079923de68d .tooltip .x_label{font-size:.6em;fill:rgba(0,0,0,1)}#chart-1bbbf325-df26-4c5e-b4e6-6079923de68d .tooltip .xlink{font-size:.5em;text-decoration:underline}#chart-1bbbf325-df26-4c5e-b4e6-6079923de68d .tooltip .value{font-size:1.5em}#chart-1bbbf325-df26-4c5e-b4e6-6079923de68d .bound{font-size:.5em}#chart-1bbbf325-df26-4c5e-b4e6-6079923de68d .max-value{font-size:.75em;fill:rgba(0,0,0,.54)}#chart-1bbbf325-df26-4c5e-b4e6-6079923de68d .map-element{fill:rgba(255,255,255,1);stroke:rgba(0,0,0,.54) !important}#chart-1bbbf325-df26-4c5e-b4e6-6079923de68d .map-element .reactive{fill-opacity:inherit;stroke-opacity:inherit}#chart-1bbbf325-df26-4c5e-b4e6-6079923de68d .color-0,#chart-1bbbf325-df26-4c5e-b4e6-6079923de68d .color-0 a:visited{stroke:#F44336;fill:#F44336}#chart-1bbbf325-df26-4c5e-b4e6-6079923de68d .color-1,#chart-1bbbf325-df26-4c5e-b4e6-6079923de68d .color-1 a:visited{stroke:#3F51B5;fill:#3F51B5}#chart-1bbbf325-df26-4c5e-b4e6-6079923de68d .color-2,#chart-1bbbf325-df26-4c5e-b4e6-6079923de68d .color-2 a:visited{stroke:#009688;fill:#009688}#chart-1bbbf325-df26-4c5e-b4e6-6079923de68d .text-overlay .color-0 text{fill:black}#chart-1bbbf325-df26-4c5e-b4e6-6079923de68d .text-overlay .color-1 text{fill:black}#chart-1bbbf325-df26-4c5e-b4e6-6079923de68d .text-overlay .color-2 text{fill:black}\n",
       "#chart-1bbbf325-df26-4c5e-b4e6-6079923de68d text.no_data{text-anchor:middle}#chart-1bbbf325-df26-4c5e-b4e6-6079923de68d .guide.line{fill:none}#chart-1bbbf325-df26-4c5e-b4e6-6079923de68d .centered{text-anchor:middle}#chart-1bbbf325-df26-4c5e-b4e6-6079923de68d .title{text-anchor:middle}#chart-1bbbf325-df26-4c5e-b4e6-6079923de68d .legends .legend text{fill-opacity:1}#chart-1bbbf325-df26-4c5e-b4e6-6079923de68d .axis.x text{text-anchor:middle}#chart-1bbbf325-df26-4c5e-b4e6-6079923de68d .axis.x:not(.web) text[transform]{text-anchor:start}#chart-1bbbf325-df26-4c5e-b4e6-6079923de68d .axis.x:not(.web) text[transform].backwards{text-anchor:end}#chart-1bbbf325-df26-4c5e-b4e6-6079923de68d .axis.y text{text-anchor:end}#chart-1bbbf325-df26-4c5e-b4e6-6079923de68d .axis.y text[transform].backwards{text-anchor:start}#chart-1bbbf325-df26-4c5e-b4e6-6079923de68d .axis.y2 text{text-anchor:start}#chart-1bbbf325-df26-4c5e-b4e6-6079923de68d .axis.y2 text[transform].backwards{text-anchor:end}#chart-1bbbf325-df26-4c5e-b4e6-6079923de68d .axis .guide.line{stroke-dasharray:4,4}#chart-1bbbf325-df26-4c5e-b4e6-6079923de68d .axis .major.guide.line{stroke-dasharray:6,6}#chart-1bbbf325-df26-4c5e-b4e6-6079923de68d .horizontal .axis.y .guide.line,#chart-1bbbf325-df26-4c5e-b4e6-6079923de68d .horizontal .axis.y2 .guide.line,#chart-1bbbf325-df26-4c5e-b4e6-6079923de68d .vertical .axis.x .guide.line{opacity:0}#chart-1bbbf325-df26-4c5e-b4e6-6079923de68d .horizontal .axis.always_show .guide.line,#chart-1bbbf325-df26-4c5e-b4e6-6079923de68d .vertical .axis.always_show .guide.line{opacity:1 !important}#chart-1bbbf325-df26-4c5e-b4e6-6079923de68d .axis.y .guides:hover .guide.line,#chart-1bbbf325-df26-4c5e-b4e6-6079923de68d .axis.y2 .guides:hover .guide.line,#chart-1bbbf325-df26-4c5e-b4e6-6079923de68d .axis.x .guides:hover .guide.line{opacity:1}#chart-1bbbf325-df26-4c5e-b4e6-6079923de68d .axis .guides:hover text{opacity:1}#chart-1bbbf325-df26-4c5e-b4e6-6079923de68d .nofill{fill:none}#chart-1bbbf325-df26-4c5e-b4e6-6079923de68d .subtle-fill{fill-opacity:.2}#chart-1bbbf325-df26-4c5e-b4e6-6079923de68d .dot{stroke-width:1px;fill-opacity:1}#chart-1bbbf325-df26-4c5e-b4e6-6079923de68d .dot.active{stroke-width:5px}#chart-1bbbf325-df26-4c5e-b4e6-6079923de68d .dot.negative{fill:transparent}#chart-1bbbf325-df26-4c5e-b4e6-6079923de68d text,#chart-1bbbf325-df26-4c5e-b4e6-6079923de68d tspan{stroke:none !important}#chart-1bbbf325-df26-4c5e-b4e6-6079923de68d .series text.active{opacity:1}#chart-1bbbf325-df26-4c5e-b4e6-6079923de68d .tooltip rect{fill-opacity:.95;stroke-width:.5}#chart-1bbbf325-df26-4c5e-b4e6-6079923de68d .tooltip text{fill-opacity:1}#chart-1bbbf325-df26-4c5e-b4e6-6079923de68d .showable{visibility:hidden}#chart-1bbbf325-df26-4c5e-b4e6-6079923de68d .showable.shown{visibility:visible}#chart-1bbbf325-df26-4c5e-b4e6-6079923de68d .gauge-background{fill:rgba(229,229,229,1);stroke:none}#chart-1bbbf325-df26-4c5e-b4e6-6079923de68d .bg-lines{stroke:rgba(249,249,249,1);stroke-width:2px}</style><script type=\"text/javascript\">window.pygal = window.pygal || {};window.pygal.config = window.pygal.config || {};window.pygal.config['1bbbf325-df26-4c5e-b4e6-6079923de68d'] = {&quot;dynamic_print_values&quot;: false, &quot;truncate_label&quot;: null, &quot;inner_radius&quot;: 0, &quot;print_values&quot;: false, &quot;xrange&quot;: null, &quot;box_mode&quot;: &quot;extremes&quot;, &quot;title&quot;: &quot;Long, medium, and short routes&quot;, &quot;legend_at_bottom_columns&quot;: null, &quot;height&quot;: 600, &quot;legend_at_bottom&quot;: false, &quot;show_legend&quot;: true, &quot;show_dots&quot;: true, &quot;explicit_size&quot;: false, &quot;y_labels_major&quot;: null, &quot;show_minor_x_labels&quot;: true, &quot;width&quot;: 800, &quot;force_uri_protocol&quot;: &quot;https&quot;, &quot;half_pie&quot;: false, &quot;style&quot;: {&quot;major_label_font_family&quot;: &quot;Consolas, \\&quot;Liberation Mono\\&quot;, Menlo, Courier, monospace&quot;, &quot;title_font_family&quot;: &quot;Consolas, \\&quot;Liberation Mono\\&quot;, Menlo, Courier, monospace&quot;, &quot;stroke_opacity&quot;: &quot;.8&quot;, &quot;legend_font_family&quot;: &quot;Consolas, \\&quot;Liberation Mono\\&quot;, Menlo, Courier, monospace&quot;, &quot;colors&quot;: [&quot;#F44336&quot;, &quot;#3F51B5&quot;, &quot;#009688&quot;, &quot;#FFC107&quot;, &quot;#FF5722&quot;, &quot;#9C27B0&quot;, &quot;#03A9F4&quot;, &quot;#8BC34A&quot;, &quot;#FF9800&quot;, &quot;#E91E63&quot;, &quot;#2196F3&quot;, &quot;#4CAF50&quot;, &quot;#FFEB3B&quot;, &quot;#673AB7&quot;, &quot;#00BCD4&quot;, &quot;#CDDC39&quot;, &quot;#9E9E9E&quot;, &quot;#607D8B&quot;], &quot;legend_font_size&quot;: 14, &quot;no_data_font_family&quot;: &quot;Consolas, \\&quot;Liberation Mono\\&quot;, Menlo, Courier, monospace&quot;, &quot;major_label_font_size&quot;: 10, &quot;value_background&quot;: &quot;rgba(229, 229, 229, 1)&quot;, &quot;ci_colors&quot;: [], &quot;label_font_family&quot;: &quot;Consolas, \\&quot;Liberation Mono\\&quot;, Menlo, Courier, monospace&quot;, &quot;label_font_size&quot;: 10, &quot;tooltip_font_size&quot;: 14, &quot;value_font_size&quot;: 16, &quot;font_family&quot;: &quot;Consolas, \\&quot;Liberation Mono\\&quot;, Menlo, Courier, monospace&quot;, &quot;opacity&quot;: &quot;.7&quot;, &quot;foreground&quot;: &quot;rgba(0, 0, 0, .87)&quot;, &quot;plot_background&quot;: &quot;rgba(255, 255, 255, 1)&quot;, &quot;value_label_font_size&quot;: 10, &quot;value_label_font_family&quot;: &quot;Consolas, \\&quot;Liberation Mono\\&quot;, Menlo, Courier, monospace&quot;, &quot;background&quot;: &quot;rgba(249, 249, 249, 1)&quot;, &quot;no_data_font_size&quot;: 64, &quot;value_colors&quot;: [], &quot;guide_stroke_dasharray&quot;: &quot;4,4&quot;, &quot;transition&quot;: &quot;150ms&quot;, &quot;foreground_subtle&quot;: &quot;rgba(0, 0, 0, .54)&quot;, &quot;value_font_family&quot;: &quot;Consolas, \\&quot;Liberation Mono\\&quot;, Menlo, Courier, monospace&quot;, &quot;tooltip_font_family&quot;: &quot;Consolas, \\&quot;Liberation Mono\\&quot;, Menlo, Courier, monospace&quot;, &quot;title_font_size&quot;: 16, &quot;stroke_opacity_hover&quot;: &quot;.9&quot;, &quot;major_guide_stroke_dasharray&quot;: &quot;6,6&quot;, &quot;opacity_hover&quot;: &quot;.8&quot;, &quot;foreground_strong&quot;: &quot;rgba(0, 0, 0, 1)&quot;}, &quot;x_label_rotation&quot;: 0, &quot;fill&quot;: false, &quot;missing_value_fill_truncation&quot;: &quot;x&quot;, &quot;zero&quot;: 0, &quot;margin_right&quot;: null, &quot;interpolation_parameters&quot;: {}, &quot;x_labels_major&quot;: null, &quot;rounded_bars&quot;: null, &quot;show_y_labels&quot;: true, &quot;dots_size&quot;: 2.5, &quot;show_y_guides&quot;: true, &quot;show_minor_y_labels&quot;: true, &quot;x_labels&quot;: null, &quot;y_title&quot;: null, &quot;order_min&quot;: null, &quot;formatter&quot;: null, &quot;disable_xml_declaration&quot;: false, &quot;strict&quot;: false, &quot;css&quot;: [&quot;file://style.css&quot;, &quot;file://graph.css&quot;], &quot;tooltip_fancy_mode&quot;: true, &quot;defs&quot;: [], &quot;show_only_major_dots&quot;: false, &quot;y_label_rotation&quot;: 0, &quot;show_x_labels&quot;: true, &quot;min_scale&quot;: 4, &quot;show_x_guides&quot;: false, &quot;spacing&quot;: 10, &quot;x_labels_major_count&quot;: null, &quot;pretty_print&quot;: false, &quot;tooltip_border_radius&quot;: 0, &quot;interpolate&quot;: null, &quot;js&quot;: [&quot;//kozea.github.io/pygal.js/2.0.x/pygal-tooltips.min.js&quot;], &quot;y_labels&quot;: null, &quot;stroke_style&quot;: null, &quot;print_labels&quot;: false, &quot;interpolation_precision&quot;: 250, &quot;x_title&quot;: null, &quot;y_labels_major_every&quot;: null, &quot;logarithmic&quot;: false, &quot;legends&quot;: [&quot;Long&quot;, &quot;Medium&quot;, &quot;Short&quot;], &quot;max_scale&quot;: 16, &quot;print_zeroes&quot;: true, &quot;no_data_text&quot;: &quot;No data&quot;, &quot;truncate_legend&quot;: null, &quot;x_labels_major_every&quot;: null, &quot;secondary_range&quot;: null, &quot;legend_box_size&quot;: 12, &quot;no_prefix&quot;: false, &quot;stroke&quot;: true, &quot;stack_from_top&quot;: false, &quot;include_x_axis&quot;: false, &quot;range&quot;: null, &quot;classes&quot;: [&quot;pygal-chart&quot;], &quot;margin_top&quot;: null, &quot;margin_left&quot;: null, &quot;y_labels_major_count&quot;: null, &quot;margin_bottom&quot;: null, &quot;inverse_y_axis&quot;: false, &quot;margin&quot;: 20, &quot;allow_interruptions&quot;: false, &quot;print_values_position&quot;: &quot;center&quot;}</script><script type=\"text/javascript\" xlink:href=\"https://kozea.github.io/pygal.js/2.0.x/pygal-tooltips.min.js\"/></defs><title>Long, medium, and short routes</title><g class=\"graph horizontalbar-graph horizontal\"><rect class=\"background\" height=\"600\" width=\"800\" x=\"0\" y=\"0\"/><g class=\"plot\" transform=\"translate(92, 46)\"><rect class=\"background\" height=\"514\" width=\"687.6\" x=\"0\" y=\"0\"/><g class=\"axis x\"><g class=\"guides\"><path class=\"axis major line\" d=\"M13.223077 0.000000 v514.000000\"/><text class=\"major\" x=\"13.2230769231\" y=\"529.0\">0</text></g><g class=\"guides\"><path class=\"guide line\" d=\"M104.510933 0.000000 v514.000000\"/><text class=\"\" x=\"104.510932768\" y=\"529.0\">10</text></g><g class=\"guides\"><path class=\"guide line\" d=\"M195.798789 0.000000 v514.000000\"/><text class=\"\" x=\"195.798788613\" y=\"529.0\">20</text></g><g class=\"guides\"><path class=\"guide line\" d=\"M287.086644 0.000000 v514.000000\"/><text class=\"\" x=\"287.086644458\" y=\"529.0\">30</text></g><g class=\"guides\"><path class=\"guide line\" d=\"M378.374500 0.000000 v514.000000\"/><text class=\"\" x=\"378.374500303\" y=\"529.0\">40</text></g><g class=\"guides\"><path class=\"major guide line\" d=\"M469.662356 0.000000 v514.000000\"/><text class=\"major\" x=\"469.662356148\" y=\"529.0\">50</text></g><g class=\"guides\"><path class=\"guide line\" d=\"M560.950212 0.000000 v514.000000\"/><text class=\"\" x=\"560.950211993\" y=\"529.0\">60</text></g><g class=\"guides\"><path class=\"guide line\" d=\"M652.238068 0.000000 v514.000000\"/><text class=\"\" x=\"652.238067838\" y=\"529.0\">70</text></g></g><g class=\"series serie-2 color-2\"><g class=\"bars\"><g class=\"bar\"><rect class=\"rect reactive tooltip-trigger\" height=\"127.577435897\" rx=\"0\" ry=\"0\" width=\"661.153846154\" x=\"13.2230769231\" y=\"338.185641026\"/><desc class=\"value\">72.42516981</desc><desc class=\"x centered\">343.8</desc><desc class=\"y centered\">401.974358974</desc></g></g></g><g class=\"series serie-1 color-1\"><g class=\"bars\"><g class=\"bar\"><rect class=\"rect reactive tooltip-trigger\" height=\"127.577435897\" rx=\"0\" ry=\"0\" width=\"243.139006663\" x=\"13.2230769231\" y=\"193.211282051\"/><desc class=\"value\">26.63432112</desc><desc class=\"x centered\">134.792580254</desc><desc class=\"y centered\">257.0</desc></g></g></g><g class=\"series serie-0 color-0\"><g class=\"bars\"><g class=\"bar\"><rect class=\"rect reactive tooltip-trigger\" height=\"127.577435897\" rx=\"0\" ry=\"0\" width=\"8.58570563295\" x=\"13.2230769231\" y=\"48.2369230769\"/><desc class=\"value\">0.9405090692</desc><desc class=\"x centered\">17.5159297396</desc><desc class=\"y centered\">112.025641026</desc></g></g></g></g><g class=\"titles\"><text class=\"title plot_title\" x=\"400.0\" y=\"26\">Long, medium, and short routes</text></g><g class=\"plot overlay\" transform=\"translate(92, 46)\"><g class=\"series serie-2 color-2\"/><g class=\"series serie-1 color-1\"/><g class=\"series serie-0 color-0\"/></g><g class=\"plot text-overlay\" transform=\"translate(92, 46)\"><g class=\"series serie-2 color-2\"/><g class=\"series serie-1 color-1\"/><g class=\"series serie-0 color-0\"/></g><g class=\"plot tooltip-overlay\" transform=\"translate(92, 46)\"><g class=\"tooltip\" style=\"opacity: 0\" transform=\"translate(0 0)\"><rect class=\"tooltip-box\" height=\"0\" rx=\"0\" ry=\"0\" width=\"0\"/><g class=\"text\"/></g></g><g class=\"legends\" transform=\"translate(10, 56)\"><g class=\"legend reactive activate-serie\" id=\"activate-serie-0\"><rect class=\"color-0 reactive\" height=\"12\" width=\"12\" x=\"0.0\" y=\"1.0\"/><text x=\"17.0\" y=\"11.2\">Long</text></g><g class=\"legend reactive activate-serie\" id=\"activate-serie-1\"><rect class=\"color-1 reactive\" height=\"12\" width=\"12\" x=\"0.0\" y=\"22.0\"/><text x=\"17.0\" y=\"32.2\">Medium</text></g><g class=\"legend reactive activate-serie\" id=\"activate-serie-2\"><rect class=\"color-2 reactive\" height=\"12\" width=\"12\" x=\"0.0\" y=\"43.0\"/><text x=\"17.0\" y=\"53.2\">Short</text></g></g><g class=\"legends\" transform=\"translate(790, 56)\"/></g></svg>"
      ],
      "text/plain": [
       "<IPython.core.display.SVG object>"
      ]
     },
     "execution_count": 74,
     "metadata": {},
     "output_type": "execute_result"
    }
   ],
   "source": [
    "import pygal\n",
    "from IPython.display import SVG\n",
    "\n",
    "chart = pygal.HorizontalBar()\n",
    "chart.title = 'Long, medium, and short routes'\n",
    "chart.add('Long', long_routes * 100)\n",
    "chart.add('Medium', medium_routes * 100)\n",
    "chart.add('Short', short_routes * 100)\n",
    "chart.render_to_file('routes.svg')\n",
    "SVG(filename='routes.svg')"
   ]
  },
  {
   "cell_type": "code",
   "execution_count": 75,
   "metadata": {
    "collapsed": false
   },
   "outputs": [
    {
     "data": {
      "text/plain": [
       "<matplotlib.collections.PathCollection at 0x7f698318e1d0>"
      ]
     },
     "execution_count": 75,
     "metadata": {},
     "output_type": "execute_result"
    },
    {
     "data": {
      "image/png": "[encoded data removed]",
      "text/plain": [
       "<matplotlib.figure.Figure at 0x7f698380ed90>"
      ]
     },
     "metadata": {},
     "output_type": "display_data"
    }
   ],
   "source": [
    "# Scatter plot\n",
    "name_lengths = airlines[\"name\"].apply(lambda x: len(str(x)))\n",
    "plt.scatter(airlines[\"id\"].astype(int), name_lengths)"
   ]
  },
  {
   "cell_type": "code",
   "execution_count": 77,
   "metadata": {
    "collapsed": false
   },
   "outputs": [
    {
     "data": {
      "text/plain": [
       "<seaborn.axisgrid.JointGrid at 0x7f6985c8c5d0>"
      ]
     },
     "execution_count": 77,
     "metadata": {},
     "output_type": "execute_result"
    },
    {
     "data": {
      "image/png": "[encoded data removed]",
      "text/plain": [
       "<matplotlib.figure.Figure at 0x7f698319fa10>"
      ]
     },
     "metadata": {},
     "output_type": "display_data"
    }
   ],
   "source": [
    "data = pd.DataFrame({\"lengths\": name_lengths, \"ids\": airlines[\"id\"].astype(int)})\n",
    "seaborn.jointplot(x=\"ids\", y=\"lengths\", data=data)"
   ]
  },
  {
   "cell_type": "code",
   "execution_count": null,
   "metadata": {
    "collapsed": true
   },
   "outputs": [],
   "source": []
  }
 ],
 "metadata": {
  "kernelspec": {
   "display_name": "Python 2",
   "language": "python",
   "name": "python2"
  },
  "language_info": {
   "codemirror_mode": {
    "name": "ipython",
    "version": 2
   },
   "file_extension": ".py",
   "mimetype": "text/x-python",
   "name": "python",
   "nbconvert_exporter": "python",
   "pygments_lexer": "ipython2",
   "version": "2.7.10"
  }
 },
 "nbformat": 4,
 "nbformat_minor": 0
}
